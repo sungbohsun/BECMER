{
 "cells": [
  {
   "cell_type": "code",
   "execution_count": 76,
   "metadata": {},
   "outputs": [
    {
     "name": "stderr",
     "output_type": "stream",
     "text": [
      "/opt/conda/lib/python3.7/site-packages/torchaudio/backend/utils.py:54: UserWarning: \"sox\" backend is being deprecated. The default backend will be changed to \"sox_io\" backend in 0.8.0 and \"sox\" backend will be removed in 0.9.0. Please migrate to \"sox_io\" backend. Please refer to https://github.com/pytorch/audio/issues/903 for the detail.\n",
      "  '\"sox\" backend is being deprecated. '\n"
     ]
    }
   ],
   "source": [
    "import os\n",
    "import torch\n",
    "import torchaudio\n",
    "import pandas as pd\n",
    "import seaborn as sns\n",
    "\n",
    "from tqdm.notebook import tqdm\n",
    "from glob import glob"
   ]
  },
  {
   "cell_type": "code",
   "execution_count": 70,
   "metadata": {},
   "outputs": [],
   "source": [
    "for name in glob('chorus/*'):\n",
    "    new_name = 'chorus/{}.mp3'.format(name.split('/')[1][:4])\n",
    "    os.rename(name,new_name)"
   ]
  },
  {
   "cell_type": "code",
   "execution_count": 42,
   "metadata": {},
   "outputs": [],
   "source": [
    "df  = pd.read_excel('MER_lyrics_dataset.xls')[17:]\n",
    "new_header = df.iloc[0] #grab the first row for the header\n",
    "df = df[1:] #take the data less the header row\n",
    "df.columns = new_header #set the header row as the df header\n",
    "df = df.reset_index()\n",
    "\n",
    "df2  = pd.read_excel('MER-Bimodal-Dataset.xls')\n",
    "df2 = df2[15:]\n",
    "new_header = df2.iloc[0] #grab the first row for the header\n",
    "df2 = df2[1:] #take the data less the header row\n",
    "df2.columns = new_header #set the header row as the df header\n",
    "df2 = df2.reset_index()\n",
    "\n",
    "df2['Code'] = df2['Lyrics Code']\n",
    "\n",
    "df3 = pd.merge(df,df2,on='Code')"
   ]
  },
  {
   "cell_type": "code",
   "execution_count": 59,
   "metadata": {
    "collapsed": true,
    "jupyter": {
     "outputs_hidden": true
    }
   },
   "outputs": [
    {
     "name": "stdout",
     "output_type": "stream",
     "text": [
      "['http://www.lyricsfreak.com/n/norah+jones/moon+song_20481090.html']\n"
     ]
    },
    {
     "name": "stdin",
     "output_type": "stream",
     "text": [
      " Norah Jones – Moon Song Lyrics Want to find out where the moon goes When it leaves the western sky And night dissolves again to morning Azure turns to gold Azure turns to gold  Gonna sleep with one eye open Gonna keep the shades half drawn Nearly silent dressed in shadows Lines and colors fall Lines and colors fall  Gonna watch her through the window Just as I watched you before Smile knows but just won't tell me I just watch her go I just watch her go  Now I know just where the moon goes When it leaves the western sky And night dissolves again to morning The moon is in your eyes The moon is in your eyes The moon is in your eyes The moon is in your eyes\n"
     ]
    },
    {
     "name": "stdout",
     "output_type": "stream",
     "text": [
      "['http://www.songlyrics.com/vandross-luther/never-too-much-lyrics/']\n"
     ]
    },
    {
     "name": "stdin",
     "output_type": "stream",
     "text": [
      " Vandross Luther Never Too Much Never Too Much I can't fool myself, I don't want nobody else to ever love me You are my shinin' star, my guiding light, my love fantasy There's not a minute, hour, day or night that I don't love you You're at the top of my list 'cause I'm always thinkin' of you  I still remember in the days when I scared to touch you How I spent my day dreamin' plannin' how to say I love you You must have known that I had feelings deep enough to swim in That's when you opened up your heart and you told me to come in  Oh, my love A thousand kisses from you is never too much I just don't wanna stop  Oh, my love A million days in your arms is never too much I just don't wanna stop  Too much, never too much, never too much, never too much  Woke up today, looked at your picture just to get me started I called you up, but you weren't there and I was broken hearted Hung up the phone, can't be too late, the boss is so demandin' Opened the door up and to my surprise there you were standin'  Well, who needs to go to work to hustle for another dollar I'd rather be with you 'cause you make my heart scream and holler Love is a gamble and I'm so glad that I'm winnin' We've come a long way and yet this is only the beginnin'  Oh, my love A thousand kisses from you is never too much (Never too much, never too much, never too much) I just don't wanna stop  Oh, my love A million days in your arms is never too much (Never too much, never too much, never too much) And I just don't wanna stop  Oh, my love A thousand kisses from you is never (Never too much, never too much, never too much) I just don't wanna stop  Oh, my love A million days in your arms is never too much\n"
     ]
    },
    {
     "name": "stdout",
     "output_type": "stream",
     "text": [
      "['http://www.songlyrics.com/frank-sinatra/new-york-new-york-lyrics/']\n"
     ]
    },
    {
     "name": "stdin",
     "output_type": "stream",
     "text": [
      " Start spreading the news I am leaving today I want to be a part of it New York, New York  These vagabond shoes They are longing to stray Right through the very heart of it New York, New York  I want to wake up in that city That doesn't sleep And find I'm king of the hill Top of the heap  My little town blues They are melting away I gonna make a brand new start of it In old New York  If I can make it there I'll make it anywhere It's up to you New York, New York  New York, New York I want to wake up in that city That never sleeps And find I'm king of the hill Top of the list Head of the heap King of the hill  These are little town blues They have all melted away I am about to make a brand new start of it Right there in old New York  And you bet [Incomprehensible] baby If I can make it there You know, I'm gonna make it just about anywhere Come on, come through New York, New York, New York\n"
     ]
    },
    {
     "name": "stdout",
     "output_type": "stream",
     "text": [
      "['http://www.songlyrics.com/avenged-sevenfold/nightmare-lyrics/']\n"
     ]
    },
    {
     "name": "stdin",
     "output_type": "stream",
     "text": [
      " Nightmare!  (Now your nightmare comes to life)  Dragged ya down below Down to the devil's show To be his guest forever (Peace of mind is less than never)  Hate to twist your mind But God ain't on your side An old acquaintance severed (Burn the world your last endeavour)  Flesh is burning, you can smell it in the air 'Cause men like you have such an easy soul to steal (steal)  So stand in line while they ink numbers in your head You're now a slave until the end of time And nothing stops the madness turning Haunting, yearning, pull the trigger  You should have known the price of evil And it hurts to know that you belong here, yeah Ooh, it's your fucking nightmare! (While your nightmare comes to life)  Can't wake up in sweat 'Cause it ain't over yet Still dancing with your demons (Victim of your own creation)  Beyond the will to fight Where all that's wrong is right Where hate don't need a reason (Loathing self-assassination)  You've been lied to just to rape you of your site And now they have the nerve to tell you how to feel So sedated as they medicate your brain And while you slowly go insane they tell you \"Given with the best intentions Help you with your complications\"  You should have known the price of evil And it hurts to know that you belong here, yeah No one to call Everybody to fear Your tragic fate is looking so clear, yeah Ooh, it's your fucking nightmare Ha, ha, ha, ha  Fight (fight) Not to fail (fail) Not to fall (fall) Or you'll end up like the others  Die (die) Die again (die) Drenched in sin (sin) With no respect for another Oh  Down (down) Feel the fire (fire) Feel the hate (hate) Your pain is what we desire  Lost (lost) Hit the wall (wall) Watch you crawl (crawl) Such a replaceable liar And I know you hear their voices (Calling from above) And I know they may seem real (These signals of love) But our life's made up from choices (Some without appeal) They took for granted your soul And it's ours now to steal (As your nightmare comes to life) You should have known the price of evil And it hurts to know that you belong here, yeah No one to call, everybody to fear Your tragic fate is looking so clear, yeah Ooh, it's your fucking nightmare!\n"
     ]
    },
    {
     "name": "stdout",
     "output_type": "stream",
     "text": [
      "['http://www.songlyrics.com/sinad-oconnor/nothing-compares-2-u-lyrics/']\n"
     ]
    },
    {
     "name": "stdin",
     "output_type": "stream",
     "text": [
      " It's been seven hours and fifteen days Since u took your love away I go out every night and sleep all day Since you took your love away Since you been gone I can do whatever I want I can see whomever I choose I can eat my dinner in a fancy restaurant But nothing I said nothing can take away these blues  'Cause nothing compares Nothing compares to you  It's been so lonely without you here Like a bird without a song Nothing can stop these lonely tears from falling Tell me baby where did I go wrong I could put my arms around every boy I see But they'd only remind me of you I went to the doctor and guess what he told me Guess what he told me He said girl you better have fun No matter what you do But he's a fool  'Cause nothing compares Nothing compares to you  All the flowers that you planted, mama In the back yard All died when you went away I know that living with you baby was sometimes hard But I'm willing to give it another try  Nothing compares Nothing compares to you Nothing compares Nothing compares to you Nothing compares Nothing compares to you\n"
     ]
    },
    {
     "name": "stdout",
     "output_type": "stream",
     "text": [
      "['http://lyrics.wikia.com/wiki/Lisa_Gerrard:On_An_Ocean']\n"
     ]
    },
    {
     "name": "stdin",
     "output_type": "stream",
     "text": [
      " \n"
     ]
    },
    {
     "name": "stdout",
     "output_type": "stream",
     "text": [
      "['http://www.songlyrics.com/enya/paint-the-sky-with-stars-lyrics/']\n"
     ]
    },
    {
     "name": "stdin",
     "output_type": "stream",
     "text": [
      " Suddenly before my eyes Hues of indigo arise With them how my spirit sighs Paint the sky with stars  Only night will ever know Why the heavens never show All the dreams there are to know Paint the sky with stars  Who has placed the midnight sky? So a spirit has to fly As the heavens seem so far Now who will paint the midnight star?  Night has brought to those who sleep Only dreams they cannot keep I have legends in the deep Paint the sky with stars  Who has placed the midnight sky? So a spirit has to fly As the heavens seem so far Now who will paint the midnight star?  Place a name upon the night One to set your heart alight And to make the darkness bright Paint the sky with stars.\n"
     ]
    },
    {
     "name": "stdout",
     "output_type": "stream",
     "text": [
      "['http://www.metrolyrics.com/sacrifice-lyrics-sinead-oconnor.html']\n"
     ]
    },
    {
     "name": "stdin",
     "output_type": "stream",
     "text": [
      " It's a human sign When things go wrong When the scent of her lingers And temptation's strong Into the boundary Of each married man Sweet deceit comes calling And negativity landsCold, cold heart Hard done by you Some things lookin' better, baby Just passin' through And it's no sacrifice Just a simple word It's two hearts livin' In two separate world But, it's no sacrifice No sacrifice It's no sacrifice, at all\n"
     ]
    },
    {
     "name": "stdout",
     "output_type": "stream",
     "text": [
      "['http://www.metrolyrics.com/serial-killer-lyrics-violence.html']\n"
     ]
    },
    {
     "name": "stdin",
     "output_type": "stream",
     "text": [
      " I've tasted The thrill of a kill The thrill of my victims I'm crushing Destroying their willDemented A figure of speech My mind is lost eternally Out of my reachRichard In your glass case Stand to be judged, their deaths Written there all over your face\n"
     ]
    },
    {
     "name": "stdout",
     "output_type": "stream",
     "text": [
      "['http://www.lyrics.com/single-ladies-lyrics-beyonc.html']\n"
     ]
    },
    {
     "name": "stdin",
     "output_type": "stream",
     "text": [
      " Ella e' buena, pero le gustan lo' malo' Si te soy sincero, yo por ella jalo Me tiró diciéndome que la dejaron Es otra más que con su corazón jugaron, ey  ¿Ese bandido qué le hizo? Dígame por qué llora Confiéseme pa' darle piso y enterrarlo ahora Que yo la puedo defender a usted si me colabora Le voy a dejar saber a ese man que ya no está sola (wuh) ¿Ese bandido qué le hizo? Dígame por qué llora (dígame por qué llora) Confiéseme pa' darle piso y enterrarlo ahora Que yo la puedo defender a usted si me colabora (sirili, woh-oh-oh-oh-oh) Le voy a dejar saber a ese man que ya no está sola (wuh)  Mi amor, avísame si acaso te incomoda Pa' reventarlo y que sepa que no estás sola Yo te hablo claro, yo no brego con pistola' Pero tengo el respeto de lo' que controlan Tú ere' hermosa, mami, dime por qué llora' Te haría mi señora Ella le da lo mismo en un crucero que una yola Condone' de colore', la parto a lo Crayola Mujere' como tú uno las desea y las añora (añora) Dile que tú tiene' vaqueo Si pone' el booty en reversa Yo le prendo la cámara como cuando parqueo Le gusta el maleanteo Dice que la están buscando porque mata la liga, yo se lo creo  ¿Ese bandido qué le hizo? Dígame por qué llora (baby, ¿por qué llora? Ey) Confiéseme pa' darle piso y enterrarlo ahora (pa' meterle ahora, jaja) Que yo la puedo defender a usted si me colabora (si me colabora) Le voy a dejar saber a ese man que ya no está sola (me dicen Juhn \"El All Star\", baby)  ¿Y ese bandido qué fue lo que hizo? (Oh-oh) Confiesa pa' de una darle piso (piso) Ya no te quiero ver llorando, ese no vuelve hacerte daño Bebecita, te lo garantizo (wuh) Es que lo de ella y lo mío e' un romance secreto Callao', bien en discreto, la beso y la aprieto Me la llevo por el mundo y gasto el ticket completo Por ella reviento a cualquier sujeto A ella le gusta lo malo, lo bueno, lo caro Titerona, no se asusta si escucha un disparo El cuerpo e' hermoso, los ojos son claro' Era mi reina, ahora e' mi diosa, a ella ni la comparo  Qué pereza Verla triste con tanta belleza Quien dañó un corazón con mucha pureza No sabe tratar con delicadeza Princesa, a él no le interesa Si yo soy el que te toca y te besa Cuando la vi yo dije: \"quiero con esa\" Desde esa vez no sales de mi cabeza  ¿Ese bandido qué le hizo? Dígame por qué llora (baby, ¿por qué llora? Ey) Confiéseme pa' darle piso y enterrarlo ahora (pa' meterle ahora, jaja) Que yo la puedo defender a usted si me colabora (si me colabora) (sirili-woh-oh-oh-oh-oh) Le voy a dejar saber a ese man que ya no está sola  ¿Ese bandido qué le hizo? (Ay) ¿Qué le hizo? (Me dicen Juhn \"El All Star, baby\") Este e' Juhn Myke Towers, baby (eh-eh-eh) El All Star Juhn \"El All Star\" Myke Towers Santana The Golden Boy (wuh) Esto e' una combinación única en su clase, baby, jaja (oh) (¿Ese bandido qué le hizo?) Las estrellas siempre andan juntas (¿Qué le hizo?) La casa blanca en sociedad con los de oro One World\n"
     ]
    },
    {
     "name": "stdout",
     "output_type": "stream",
     "text": [
      "['http://songmeanings.com/songs/view/45069/']\n"
     ]
    },
    {
     "name": "stdin",
     "output_type": "stream",
     "text": [
      " When everything we felt fails Then some music, soft and distant sails But it don't sound like it did before Then I know I'm left with nothing more Then my own soul  When pretty pictures face back But your coats aren't hanging on the rack And blue water turns to A place that I can't get to A place that I can't  In a room all I feel Is the cold that you left  Through the air all I see Is your face full of blame  What's left to see? What's there to see?  In the room all I feel Is the cold that you left  Through the air all I see Is your face full of blame  What's left to see? What's left to see? What's left to see? What's left to see?\n"
     ]
    },
    {
     "name": "stdout",
     "output_type": "stream",
     "text": [
      "['http://www.lyricsmania.com/spill_your_blood_lyrics_mr_hyde.html']\n"
     ]
    },
    {
     "name": "stdin",
     "output_type": "stream",
     "text": [
      " It's not good any more. It's a cash bar. 25 dollars You fucking ugly bitch I'm gonna stab you to death then play around with your blood  [Necro] Yo word up get the fucking mop Ain't bout to leave all your fuckin blood on the floor. Bitch we will..  [Chorus] Spill your blood on the concrete Split your mug and let you leak Holding guns and rolling deep Psycho thugs you don't want beef  [Mr. Hyde] When Mr. Hyde enters the room you reside inside a tomb When I off you with the blade in a coffin's where you stay There ain't a fucker rough enough or tough enough to step it God forbid you knuckle up you'll probably get snuffed to death Hook a right and a left my jooks is spikin your flesh But you received it like a man and took it right in your chest Ya'll are thinkin that you're thugs I'ma split open your jugs Grab and spit it you from all the kickin get blood on my lugs Get to act it fuckin nice like to act to cut and slice If you front it's logical that I attack you with a knife I stay strapped and shady cause I'm packin a 380 After life decision makers wanna banish me to Hades But I'm still grippin the heat sprayin off a pound of shells Gonna need a thicker leash to restrain the hounds of hell See my bloody fists'll drip then I'll add like 50 kicks To your cranium I'm bangin 'em with the biscuit itch My whole crew is sick known to start some stupid shit And if you disrespect you'll probably see a trooper kid They'll be marchin to your door strappin hard to start a war They'll wait for my demand the command to spark the door  [Chorus]  [Mr. Hyde] My sick thoughts'll provoke a pitchfork in your throat You'll get tossed in a moat your torn corpse doesn't float There's too many holes in it your flesh and your clothes are ripped From head to toes are bit food for the chosen fish Shut up and slice it's time to cut up and dice I'll drink every last gulp raising blood isn't nice When I'm going to the shortage I am hoping for a slaughter Shit's got no fuckin fluid and reduced to rigormortis The postmortem cease as I open up my shotty Wait for the police to come and catch a bonus body It's a bad afternoon when you're stabbed with the spoon Jab til the wounds laughter ensues I'm trudging through blood with guts stuck in my Timbs After my bludgeoning blood saws and cut off your limbs You can beg me but earnestly your life ain't concerned to me The crimson and burgundy you drip for eternity  [Chorus]  [Mr. Hyde] Yo that's right you little fuckin bitches it's Mr. Hyde in your grill I'll spill your fuckin blood. MCC will spill your fuckin blood Psycho+logical spills your fuckin blood Junkyard dog will spill your fuckin blood Fat motherfuckin Pat will spill your fuckin blood Stick an AIDS needle in your arm full of cats blood mother fuckers is not playing.\n"
     ]
    },
    {
     "name": "stdout",
     "output_type": "stream",
     "text": [
      "['http://www.azlyrics.com/lyrics/beegees/stayinalive.html']\n"
     ]
    },
    {
     "name": "stdin",
     "output_type": "stream",
     "text": [
      " Well, you can tell by the way I use my walk, I'm a woman's man: no time to talk. Music loud and women warm, I've been kicked around since I was born.  And now it's all right. It's OK. And you may look the other way. We can try to understand The New York Times' effect on man.  Whether you're a brother Or whether you're a mother, You're stayin' alive, stayin' alive. Feel the city breakin' And everybody shakin', And we're stayin' alive, stayin' alive. Ah, ha, ha, ha, stayin' alive, stayin' alive. Ah, ha, ha, ha, stayin' alive.  Well, now, I get low and I get high, And if I can't get either, I really try. Got the wings of heaven on my shoes. I'm a dancin' man and I just can't lose.  You know it's all right. It's OK. I'll live to see another day. We can try to understand The New York Times' effect on man.  Whether you're a brother Or whether you're a mother, You're stayin' alive, stayin' alive. Feel the city breakin' And everybody shakin', And we're stayin' alive, stayin' alive. Ah, ha, ha, ha, stayin' alive, stayin' alive. Ah, ha, ha, ha, stayin' alive.  Life goin' nowhere. Somebody help me. Somebody help me, yeah. Life goin' nowhere. Somebody help me, yeah. Stayin' alive.  Well, you can tell by the way I use my walk, I'm a woman's man: no time to talk. Music loud and women warm, I've been kicked around since I was born.  And now it's all right. It's OK. And you may look the other way. We can try to understand The New York Times' effect on man.  Whether you're a brother Or whether you're a mother, You're stayin' alive, stayin' alive. Feel the city breakin' And everybody shakin', And we're stayin' alive, stayin' alive. Ah, ha, ha, ha, stayin' alive, stayin' alive. Ah, ha, ha, ha, stayin' alive.  Life goin' nowhere. Somebody help me. Somebody help me, yeah. Life goin' nowhere. Somebody help me, yeah. I'm stayin' alive.  Life goin' nowhere. Somebody help me. Somebody help me, yeah. Life goin' nowhere. Somebody help me, yeah. I'm stayin' alive.  Life goin' nowhere. Somebody help me. Somebody help me, yeah. Life goin' nowhere. Somebody help me, yeah. I'm stayin' alive.  Life goin' nowhere. Somebody help me. Somebody help me, yeah. Life goin' nowhere. Somebody help me, yeah. I'm stayin' alive.\n"
     ]
    },
    {
     "name": "stdout",
     "output_type": "stream",
     "text": [
      "['http://www.azlyrics.com/lyrics/norahjones/sunrise.html']\n"
     ]
    },
    {
     "name": "stdin",
     "output_type": "stream",
     "text": [
      " Sunrise, sunrise Looks like mornin' in your eyes But the clock's held 9:15 for hours  Sunrise, sunrise Couldn't tempt us if it tried 'Cause the afternoon's already come and gone  And I said, \"Ooh, ooh, ooh.\" to you.  Surprise, surprise Couldn't find it in your eyes But I'm sure it's written all over my face  Surprise, surprise Never something I could hide When I see we made it through another day  And I said, \"Ooh, ooh, ooh.\" to you.  And now the night Will throw its cover down On me again.  Ooh, and if I'm right, It's the only way To bring me back.  \"Ooh, ooh, ooh\" to you. \"Ooh, ooh, ooh\" to you.\n"
     ]
    },
    {
     "name": "stdout",
     "output_type": "stream",
     "text": [
      "['http://www.azlyrics.com/lyrics/machinehead/takemyscars.html']\n"
     ]
    },
    {
     "name": "stdin",
     "output_type": "stream",
     "text": [
      " \"Take My Scars\"  it's been around for a thousand years and it'll be here for plenty more it is the face hidden in disgrace that has become now an open sore  it is a false messiah it is the face of pain the bringer of the bittersweet the heretic insane  [chorus:] take my scars throught hands of god i found a better way to break the walls  fed all the lies and desensitized taught to believe that it is the way taught to divide and exactly why you'll never understand my rage  you've never had to borrow you've never had to steal you eat it with your silver spoon for me it's real  [chorus] [lead: Robb]  blood and concrete piss and wine whores that fuck to feel divine  they'll clean their needles in their shrine in ignorance it's bliss you find  why can't you fuckin' open open up you eyes\n"
     ]
    },
    {
     "name": "stdout",
     "output_type": "stream",
     "text": [
      "['http://www.azlyrics.com/lyrics/katiemelua/thankyoustarsnewversion.html']\n"
     ]
    },
    {
     "name": "stdin",
     "output_type": "stream",
     "text": [
      " \"Thank You, Stars (New Version)\"  Some call it faith, some call it love. Some call it guidance from above. You are the reason we found ours, So thank you stars.  Some people think it's far away, Some know it's with them everyday. You are the reason we found ours, So thank you stars.  There are no winds that can blow it away on the air, When they try to blow it away 's when you know it will always be there.  To some it's the strength to be apart, To some it's a feeling in the heart. And when you're out there on your own, it's the way back home.  There are no winds that can blow it away on the air, When they try to blow it away 's when you know it will always be there. Some call it faith, some call it love. Some call it guidance from above. You are the reason we found ours, So thank you stars. Thank you stars, Thank you stars, Thank you stars\n"
     ]
    },
    {
     "name": "stdout",
     "output_type": "stream",
     "text": [
      "['http://www.azlyrics.com/lyrics/fivefingerdeathpunch/thebleeding.html']\n"
     ]
    },
    {
     "name": "stdin",
     "output_type": "stream",
     "text": [
      " \"The Bleeding\"  I remember when all the games began Remember every little lie and every last goodbye Promises you broke, words you choked on And I never walked away It's still a mystery to me  Well I'm so empty I'm better off without you and you're better off without me Well you're so unclean I'm better off without you and you're better off without me  The lying, the bleeding, the screaming Was tearing me apart The hatred (deceiving), the beatings; it's over  Paint the mirrors black to forget you I still picture your face and the way you used to taste Roses in a glass, dead and wilted To you this all was nothing Everything to you is nothing  Well you're so filthy I'm better off without you and you're better off without me Well I'm so ugly You're better off without me and I'm better off alone  The lying, the bleeding, the screaming Was tearing me apart The hatred, the beatings (disaster); it's over  As wicked as you are, you're beautiful to me You're the darkest burning star, you're my perfect disease  The lying, the bleeding, the screaming Was tearing me apart The hatred, the beatings; it's over Disaster The lying, the bleeding, the screaming Was tearing me apart The hatred, the beatings; it's over Disaster  It's over now...\n"
     ]
    },
    {
     "name": "stdout",
     "output_type": "stream",
     "text": [
      "['http://www.metrolyrics.com/the-boy-from-ipanema-lyrics-diana-krall.html']\n"
     ]
    },
    {
     "name": "stdin",
     "output_type": "stream",
     "text": [
      " Tall and tan and young and handsome The boy from Ipanema goes walking And when he passes, each girl he passes goes, ahWhen he walks he's like a samba That swings so cool and sways so gentle That when he passes each girl, he passes goes, ahOh, but I watch him so sadly How can I tell him I love him? Yes, I would give my heart gladly But each day when he walks to the sea He looks straight ahead, not at meTall, and tan, and young and handsome The boy from Ipanema goes walking And when he passes I smile but he doesn't see No, he doesn't see, he doesn't see meOh, but I watch him so sadly How can I tell him I love him? Yes, I would give my heart gladly But each day when he walks to the sea He looks straight ahead, not at me\n"
     ]
    },
    {
     "name": "stdout",
     "output_type": "stream",
     "text": [
      "['http://www.lyricsfreak.com/d/dream+theater/the+enemy+inside_21065119.html']\n"
     ]
    },
    {
     "name": "stdin",
     "output_type": "stream",
     "text": [
      " Dream Theater – The Enemy Inside Lyrics Over and over again I relive the moment I'm bearing a burden within Open wounds hidden under my skin  The pain is real As a cut that bleeds The face I see Every time I try to sleep Staring at me crying  I'm running from the enemy inside (The enemy inside) Looking for the life I left behind (The life I left behind) These suffocating memories Are etched upon my mind And I can't escape from the enemy inside  I sever myself from the world I shut down completely Alone in my own living hell Overcome with irrational fear  Under the weight of the world on my chest If I fall and break as I try to catch my breath Tell me I'm not dying  I'm running from the enemy inside (The enemy inside) Looking for the life I left behind (The life I left behind) These suffocating memories Are etched upon my mind And I can't escape from the enemy inside  I'm a burden, I'm a travesty I'm a prisoner of regret Dream of flashbacks and of violent screams I am hanging on the edge  Disaster lurks around the bend Paradise comes to an end And no magic pill Can bring it back again  I'm running from the enemy inside Looking for the life I left behind These suffocating memories Are etched upon my mind And I can't escape from the enemy inside\n"
     ]
    },
    {
     "name": "stdout",
     "output_type": "stream",
     "text": [
      "['http://www.azlyrics.com/lyrics/sarahmclachlan/angel.html']\n"
     ]
    },
    {
     "name": "stdin",
     "output_type": "stream",
     "text": [
      " \"Angel\"  Spend all your time waiting For that second chance For a break that would make it okay There's always some reason To feel not good enough And it's hard at the end of the day I need some distraction Oh, beautiful release Memory seeps from my veins Let me be empty Oh, and weightless and maybe I'll find some peace tonight  In the arms of the angel Fly away from here From this dark cold hotel room And the endlessness that you fear You are pulled from the wreckage Of your silent reverie You're in the arms of the angel May you find some comfort here  So tired of the straight line And everywhere you turn There's vultures and thieves at your back And the storm keeps on twisting You keep on building the lie That you make up for all that you lack It don't make no difference Escaping one last time It's easier to believe in this sweet madness oh This glorious sadness that brings me to my knees  In the arms of the angel Fly away from here From this dark cold hotel room And the endlessness that you fear You are pulled from the wreckage Of your silent reverie You're in the arms of the angel May you find some comfort here You're in the arms of the angel May you find some comfort here\n"
     ]
    },
    {
     "name": "stdout",
     "output_type": "stream",
     "text": [
      "['http://www.azlyrics.com/lyrics/norahjones/thosesweetwords.html']\n"
     ]
    },
    {
     "name": "stdin",
     "output_type": "stream",
     "text": [
      " \"Those Sweet Words\"  What did you say I know I saw you singing My ears won't stop ringing Long enough to hear Those sweet words What did you say  End of the day The hour hand has spun Before the night is done I just have to hear Those sweet words Spoken like a melody  All your love Is a lost balloon Rising up through the afternoon 'Til it could fit on the head of a pin  Come on in Did you have a hard time sleeping 'Cause a heavy moon was keeping me awake And all I know is I'm just glad to see you again  See my love Like a lost balloon Rising up through the afternoon And then you appear  What did you say I know you were singing My ears won't stop ringing Long enough to hear Those sweet words And your simple melody  I just have to hear Your sweet words Spoken like a melody I just wanna hear Those sweet words\n"
     ]
    },
    {
     "name": "stdout",
     "output_type": "stream",
     "text": [
      "['http://www.azlyrics.com/lyrics/beatles/twistandshout.html']\n"
     ]
    },
    {
     "name": "stdin",
     "output_type": "stream",
     "text": [
      " \"Twist And Shout\" (originally by The Top Notes)  Well, shake it up, baby, now (Shake it up, baby) Twist and shout (Twist and shout) C'mon c'mon, c'mon, c'mon, baby, now (Come on baby) Come on and work it on out (Work it on out)  Well, work it on out, honey (Work it on out) You know you look so good (Look so good) You know you got me goin' now (Got me goin') Just like I knew you would (Like I knew you would)  Well, shake it up, baby, now (Shake it up, baby) Twist and shout (Twist and shout) C'mon, c'mon, c'mon, c'mon, baby, now (Come on, baby) Come on and work it on out (Work it on out)  Well, you twist, you little girl (Twist, little girl) You know you twist so fine (Twist so fine) Come on and twist a little closer now (Twist a little closer) And let me know that you're mine (Let me know you're mine)  Well, shake it up, baby, now (Shake it up, baby) Twist and shout (Twist and shout) C'mon, c'mon, c'mon, c'mon, baby, now (Come on, baby) Come on and work it on out (Work it on out)  Well, you twist, you little girl (Twist, little girl) You know you twist so fine (Twist so fine) Come on and twist a little closer now (Twist a little closer) And let me know that you're mine (Let me know you're mine)  Well, shake it, shake it, shake it, baby, now (Shake it up baby) Well, shake it, shake it, shake it, baby, now (Shake it up baby) Well, shake it, shake it, shake it, baby, now (Shake it up baby)\n"
     ]
    },
    {
     "name": "stdout",
     "output_type": "stream",
     "text": [
      "['http://www.lyricsfreak.com/i/iron+maiden/2+minutes+to+midnight_20067954.html']\n"
     ]
    },
    {
     "name": "stdin",
     "output_type": "stream",
     "text": [
      " Iron Maiden – 2 Minutes To Midnight Lyrics from album: Powerslave (1984) (Adrian smith/bruce dickinson)  Kill for gain or shoot to maim But we don't need a reason The golden goose is on the loose And never out of season Some blackened pride still burns inside This shell of bloody treason Here's my gun for a barrel of fun For the love of living death.  Chorus The killer's breed or the demon's seed, The glamour, the fortune, the pain, Go to war again, blood is freedom's stain, But don't you pray for my soul anymore. 2 minutes to midnight The hands that threaten doom. 2 minutes to midnight To kill the unborn in the womb.  The blind men shout let the creatures out We'll show the unbelievers The napalm screams of human flames Of a prime time belsen feast... yeah! As the reasons for the carnage cut their meat and lick the gravy, We oil the jaws of the war machine and feed it with our babies.  Chorus  The body bags and little rags of children torn in two And the jellied brains of those who remain to put the finger right on you. As the madmen play on words and make us all dance to their song, To the tune of starving millions to make a better kind of gun.  Chorus  Midnight... all night...\n"
     ]
    },
    {
     "name": "stdout",
     "output_type": "stream",
     "text": [
      "['http://www.azlyrics.com/lyrics/billyjoel/uptowngirl.html']\n"
     ]
    },
    {
     "name": "stdin",
     "output_type": "stream",
     "text": [
      " \"Uptown Girl\"  Uptown girl She's been living in her uptown world I bet she never had a backstreet guy I bet her mama never told her why  I'm gonna try for an uptown girl She's been living in her white bread world As long as anyone with hot blood can And now she's looking for a downtown man That's what I am  And when she knows what She wants from her time And when she wakes up And makes up her mind  She'll see I'm not so tough Just because I'm in love with an uptown girl  You know I've seen her in her uptown world She's getting tired of her high class toys And all her presents from her uptown boys She's got a choice  Uptown girl You know I can't afford to buy her pearls But maybe someday when my ship comes in She'll understand what kind of guy I've been And then I'll win  And when she's walking She's looking so fine And when she's talking She'll say that she's mine  She'll say I'm not so tough Just because I'm in love With an uptown girl  She's been living in her white bread world As long as anyone with hot blood can And now she's looking for a downtown man That's what I am  Uptown girl She's my uptown girl You know I'm in love With an uptown girl My uptown girl You know I'm in love With an uptown girl My uptown girl\n"
     ]
    },
    {
     "name": "stdout",
     "output_type": "stream",
     "text": [
      "['http://www.azlyrics.com/lyrics/brucespringsteen/war.html']\n"
     ]
    },
    {
     "name": "stdin",
     "output_type": "stream",
     "text": [
      " \"War\"  War What is it good for? Absolutely nothing Say it again, war What is it good for? Absolutely nothing, come on  War is something that I despise For it means destruction of innocent lives And thousands words in mothers' cry When their son's go out to fight to give their lives  War What is it good for? Absolutely nothing Say it again, war What is it good for? Absolutely nothing  War It ain't nothing but a heartbreaker War Friend only to the undertaker  War is the enemy of all mankind The thought of war it just blows my mind Handed down from generation to generation Induction, destruction, who wants to die?  War What is it good for? Absolutely nothing Say it again, war What is it good for? Absolutely nothing  War It ain't nothing but a heartbreaker War Friend only to an undertaker  War has shattered many young men's dreams Made them disabled bitter and mean Life is too precious to be fighting wars each day War can't give life it can only take it away  War What is it good for? Absolutely nothing Say it again, war What is it good for? Absolutely nothing  Peace, love and understanding it all There must be some place for these things today They say we must fight to keep our freedom But Lord there's gotta be another way that's better than  War What is it good for? Absolutely nothing Say it again, war What is it good for? Absolutely nothing, come on now  War What is it good for? Absolutely nothing Say it again, war What is it good for? Nothing  I'm talkin' about war\n"
     ]
    },
    {
     "name": "stdout",
     "output_type": "stream",
     "text": [
      "['http://www.lyricsfreak.com/b/black+sabbath/war+pigs_20019418.html']\n"
     ]
    },
    {
     "name": "stdin",
     "output_type": "stream",
     "text": [
      " Black Sabbath – War Pigs Lyrics Generals gathered in their masses Just like witches at black masses Evil minds that plot destruction Sorcerers of death's construction In the fields the bodies burning As the war machine keeps turning Death and hatred to mankind Poisoning their brainwashed minds Oh lord yeah!  Politicians hide themselves away They only started the war Why should they go out to fight? They leave that role to the poor  Time will tell on their power minds Making war just for fun Treating people just like pawns in chess Wait 'til their judgement day comes Yeah!  Now in darkness world stops turning Ashes where the bodies burning No more war pigs have the power Hand of God has struck the hour Day of judgement, God is calling On their knees the war pig's crawling Begging mercy for their sins Satan laughing spreads his wings Oh lord yeah!\n"
     ]
    },
    {
     "name": "stdout",
     "output_type": "stream",
     "text": [
      "['http://www.azlyrics.com/lyrics/queen/wearethechampions.html']\n"
     ]
    },
    {
     "name": "stdin",
     "output_type": "stream",
     "text": [
      " \"We Are The Champions\"  I've paid my dues Time after time. I've done my sentence But committed no crime.  And bad mistakes‒ I've made a few. I've had my share of sand kicked in my face But I've come through.  And I need to go on and on, and on, and on.  We are the champions, my friends. And we'll keep on fighting 'til the end. We are the champions. We are the champions. No time for losers 'Cause we are the champions of the world.  I've taken my bows, And my curtain calls. You brought me fame and fortune, and everything that goes with it. I thank you all.  But it's been no bed of roses, No pleasure cruise. I consider it a challenge before the whole human race, And I ain't gonna lose.  And I need just go on and on, and on, and on.  We are the champions, my friends. And we'll keep on fighting 'til the end. We are the champions. We are the champions. No time for losers 'Cause we are the champions of the world.  We are the champions, my friends, And we'll keep on fighting 'til the end. We are the champions. We are the champions. No time for losers 'Cause we are the champions.\n"
     ]
    },
    {
     "name": "stdout",
     "output_type": "stream",
     "text": [
      "['http://www.azlyrics.com/lyrics/irenecara/flashdancewhatafeeling.html']\n"
     ]
    },
    {
     "name": "stdin",
     "output_type": "stream",
     "text": [
      " \"Flashdance... What A Feeling\"  First when there's nothing But a slow glowing dream That your fear seems to hide Deep inside your mind  All alone, I have cried Silent tears full of pride In a world made of steel Made of stone  Well, I hear the music Close my eyes, feel the rhythm Wrap around, take a hold of my heart  What a feeling Being's believing I can have it all Now I'm dancing for my life  Take your passion And make it happen Pictures come alive You can dance right through your life  Now I hear the music Close my eyes, I am rhythm In a flash, it takes hold of my heart  What a feeling, being's believing I can have it all Now I'm dancing for my life  Take your passion And make it happen Pictures come alive Now I'm dancing through my life  What a feeling  What a feeling (I am music now) Being's believing (I am rhythm now) Pictures come alive You can dance right through your life  What a feeling (I can really have it all) What a feeling (Pictures come alive when I call) I can have it all (I can really have it all)  Have it all (pictures come alive when I call) (Call, call ,call, call, what a feeling) I can have it all (being's believing) Being's believing (take your passion) (Make it happen) Make it happen (What a feeling) What a feeling\n"
     ]
    },
    {
     "name": "stdout",
     "output_type": "stream",
     "text": [
      "['http://www.metrolyrics.com/yesterday-lyrics-beatles.html']\n"
     ]
    },
    {
     "name": "stdin",
     "output_type": "stream",
     "text": [
      " Yesterday, all my troubles seemed so far away Now it looks as though they're here to stay Oh, I believe in yesterdaySuddenly I'm not half the man I used to be There's a shadow hanging over me Oh, yesterday came suddenlyWhy she had to go I don't know, she wouldn't say I said something wrong Now I long for yesterdayYesterday love was such an easy game to play Now I need a place to hide away Oh, I believe in yesterdayWhy'd she have to go? I don't know, she wouldn't say I said something wrong Now I long for yesterday Yesterday love was such an easy game to play Now I need a place to hide away Oh, I believe in yesterday\n"
     ]
    },
    {
     "name": "stdout",
     "output_type": "stream",
     "text": [
      "['http://www.azlyrics.com/lyrics/50cent/youshouldbedead.html']\n"
     ]
    },
    {
     "name": "stdin",
     "output_type": "stream",
     "text": [
      " \"You Should Be Dead\"  [Intro] I rock a nigga to sleep, roc-roc-roc-a-bye baby roc-roc-roc-a-bye baby  [Chorus] You should be dead by now Smile but wait until my shooters come round With the talids and hollow tip rounds In my hood they know how I be down (when I say dead, you dead) [repeat]  [Verse 1] Nigga I show you my teeth all through the beef Paint the sidewalk red with the back of your head Shootouts in my hood like a daily routine D's think Im involved with a nigga hit hard So when I empty the shell and the hollow tips fly Nigga You can cross your heart and hope not to die Come through squash the drama send niggas with llamas They'll eat your ass up fuck being masked up I was given the gift of life first Sabrinas since then Ive been jammed up and fucked with the nina Nana raised nine kids I turned out the meanest I mean a menace fuck with me and your finished  [Chorus] You should be dead by now Smile but wait until my shooters come round With the talids and hollow tip rounds In my hood they know how I be down (when I say dead, you dead) [repeat]  [Verse 2] Homie I dont always pay my debts when I owe a nigga bullets Got an arsenal of infiltry and niggas to pull it Go head stay out on me, dump weight its nothing I chase a nigga down, and touch him, catch him and buss him Bitch get out the way, baby while I spray it I wet a nigga like a hydrant on a hot summer day But you can catch me in May riding down with the K Better watch what you say, we get it popping today Yeah me I make it hot round here, I call the shots round here I have a nigga tearing off your top round here This is a land of broken hearts, where bullets shatter dreams And everything a nigga want is only triple beams southside  [Chorus] You should be dead by now Smile but wait until my shooters come round With the talids and hollow tip rounds In my hood they know how I be down (when I say dead, you dead) [repeat]  [Outro] roc-roc-roc-a-bye baby roc-roc-roc-a-bye baby\n"
     ]
    },
    {
     "name": "stdout",
     "output_type": "stream",
     "text": [
      "['http://www.azlyrics.com/lyrics/barrywhite/yourethefirstthelastmyeverything.html']\n"
     ]
    },
    {
     "name": "stdin",
     "output_type": "stream",
     "text": [
      " \"You're The First, The Last, My Everything\"  We got it together, didn't we? We definitely got our thing together, don't we baby? Isn't that nice? I mean, when you really sit and think about it, isn't it really, really nice? I can easily feel myself slipping more and more ways Slip in world of my own Nobody but you and me We've got it together, baby  The first, my last, my everything And the answer to all my dreams You're my sun, my moon, my guiding star My kind of wonderful, that's what you are  I know there's only, only one like you There's no way they could have made two Girl, you're all I'm living for Your love I'll keep for evermore You're the first, you're the last, my everything  In you I've found so many things A love so new only you could bring Can't you see if you, you make me feel this way You're like a first morning dew on a brand new day  I see so many way that I Can love you till the day I die You're my reality, yet I'm lost in a dream You're the first, the last, my everything  I know there's only, only one like you There's no way they could have made two Girl you're my reality But I'm lost in a dream You're the first, you're the last, my everything  You and me, babe Just you and me You are the first, the last, my everything\n"
     ]
    },
    {
     "name": "stdout",
     "output_type": "stream",
     "text": [
      "['http://www.azlyrics.com/lyrics/louisarmstrong/whatawonderfulworld.html']\n"
     ]
    },
    {
     "name": "stdin",
     "output_type": "stream",
     "text": [
      " \"What A Wonderful World\"  I see trees of green Red roses too I see them bloom For me and you And I think to myself What a wonderful world  I see skies of blue And clouds of white The bright blessed day The dark sacred night And I think to myself What a wonderful world  The colors of the rainbow So pretty in the sky Are also on the faces Of people going by I see friends shaking hands Saying, \"How do you do?\" They're really saying \"I love you\"  I hear babies cry I watch them grow They'll learn much more Than I'll never know And I think to myself What a wonderful world  Yes, I think to myself What a wonderful world  Oh yeah\n"
     ]
    },
    {
     "name": "stdout",
     "output_type": "stream",
     "text": [
      "['http://www.azlyrics.com/lyrics/rodstewart/countrycomforts.html']\n"
     ]
    },
    {
     "name": "stdin",
     "output_type": "stream",
     "text": [
      " \"Country Comforts\"  Soon the pines will be falling everywhere Village children always fighting for fair share And the six-o-nine goes roarin' down the creek As Parson Lee prepares his service for next week  I saw grandma yesterday down at the store Well she's really lookin' fine for eighty-four And she asked me if some time I'd fix the barn Poor old girl, she needs a man down on the farm  Chorus: And it's good old country comforts in my bones Just the sweetest sound my ears have ever known Just an old fashioned feeling in my bones Country comforts and the road that's going home  Down at the mill they've got a new machine Foreman says it cuts manpower by fifteen \"Oh, but that ain't natural\" old man Grayson says 'cause he's a horse-drawn man until his dying days\n"
     ]
    },
    {
     "name": "stdout",
     "output_type": "stream",
     "text": [
      "['http://www.azlyrics.com/lyrics/steviewonder/lately.html']\n"
     ]
    },
    {
     "name": "stdin",
     "output_type": "stream",
     "text": [
      " \"Lately\"  Lately, I have had the strangest feeling With no vivid reason here to find Yet the thought of losing you's been hanging 'Round my mind  Far more frequently you're wearing perfume With you say no special place to go But when I ask will you be coming back soon You don't know, never know  Well, I'm a man of many wishes Hope my premonition misses But what I really feel my eyes won't let me hide 'Cause they always start to cry 'Cause this time could mean goodbye  Lately I've been staring in the mirror Very slowly picking me apart Trying to tell myself I have no reason With your heart  Just the other night while you were sleeping I vaguely heard you whisper someone's name But when I ask you of the thoughts you're keeping You just say nothing's changed  Well, I'm a man of many wishes I hope my premonition misses But what I really feel my eyes won't let me hide 'Cause they always start to cry 'Cause this time could mean goodbye, goodbye  Oh, I'm a man of many wishes I hope my premonition misses But what I really feel my eyes won't let me hide 'Cause they always start to cry 'Cause this time could mean goodbye\n"
     ]
    },
    {
     "name": "stdout",
     "output_type": "stream",
     "text": [
      "['http://www.metrolyrics.com/im-so-lonesome-i-could-cry-lyrics-johnny-cash.html']\n"
     ]
    },
    {
     "name": "stdin",
     "output_type": "stream",
     "text": [
      " Hear that lonesome whippoorwill He sounds too blue to fly The midnight The silence of a falling star Lights up a purple sky And as I wonder where you are I'm so lonesome I could cry I'm so lonesome I could crytrain is whinin' low I'm so lonesome I could cryI've never seen a night so long When time goes crawlin' by The moon just went behind a cloud To hide its face and cryDid you ever see a robin weep When leaves begin to die? That means he's lost the will to live I'm so lonesome I could cry \n"
     ]
    },
    {
     "name": "stdout",
     "output_type": "stream",
     "text": [
      "['http://www.lyricsfreak.com/p/prince/u+got+the+look_20111388.html']\n"
     ]
    },
    {
     "name": "stdin",
     "output_type": "stream",
     "text": [
      " Prince – U Got The Look Lyrics from album: Sign \"O\" The Times (1987) Here we are folks The dream we all dream off Boy versus girl in the world series of love Tell me, have you got the look? You walked in, I woke up I never seen a pretty girl Look so tough, baby You got that look Color you peach and black Color me takin aback Crucial, I think I wantcha  Youve got the look, youve got the hook You shonuf do be cookin in my book Your face is jammin Your bodys heck-a-slammin If love is good, lets get 2 rammin You got the look, you got the look  Look here You got the look (you got the look) You musta took (you musta took) A whole hour just 2 make up your face, baby Closin time, ugly lights, everybodys inspected (everybodys inspected) But you are a natural beauty unaffected (unaffected) Did I say an hour? My face is red, I stand corrected (I stand corrected)  Youve got the look, youve got the hook You shonuf do be cookin in my book Your face is jammin Your bodys heck-a-slammin If love is good, lets get 2 rammin You got the look, you got the look  (there's no girl to do) Well here we are, ladies and gentlemen The dream we all dream of (oh, please!) Boy versus girl in the world series of love Slammin  You walked in (I walked in) I woke up (you woke up) I never seen a pretty girl look so tough baby (baby) You got that look, yes you do (yes you do) Color you peach and black Color me takin aback, baby Crucial, I think I wantcha  Youve got the look, youve got the hook You shonuf do be cookin in my book Your face is jammin Your bodys heck-a-slammin If your love is good, lets get 2 rammin (now) You got the look, you got the look  Here we are folks The dream we all dream of  You got the look You got the look You got the look You got the look You got the look\n"
     ]
    },
    {
     "name": "stdout",
     "output_type": "stream",
     "text": [
      "['http://www.metrolyrics.com/animal-lyrics-pearl-jam.html']\n"
     ]
    },
    {
     "name": "stdin",
     "output_type": "stream",
     "text": [
      " One, two, three, four, five against one Five, five, against one Said on Said one, two, three, four, five against one Five, five, five, five, five against one One, two, three, four, five against one Five, five, five, five, five against one Why would you wanna hurt me? Oh Oh, so frightened of your painI'd rather be I'd rather be with I'd rather be with an animal I'd rather be I'd rather be I'd rather be with an animalI'd rather be I'd rather be with I'd rather be with an animal I'd rather be I'd rather be I'd rather be with an animale, two, three, four, five against one Five, five, five, five, five against oneTorture from you to me Abducted from the streetI'd rather be I'd rather be with I'd rather be with an animal \n"
     ]
    },
    {
     "name": "stdout",
     "output_type": "stream",
     "text": [
      "['http://www.azlyrics.com/lyrics/beatles/psiloveyou.html']\n"
     ]
    },
    {
     "name": "stdin",
     "output_type": "stream",
     "text": [
      " \"P.S. I Love You\"  As I write this letter Send my love to you Remember that I'll always Be in love with you  Treasure these few words till we're together Keep all my love forever P.S. I love you You, you, you  I'll be coming home again to you, love And till the day I do, love P.S. I love you You, you, you  As I write this letter Send my love to you Remember that I'll always Be in love with you  Treasure these few words till we're together Keep all my love forever P.S. I love you You, you, you  As I write this letter (Oh) Send my love to you (You know I want you to) Remember that I'll always (Yeah) Be in love with you  I'll be coming home again to you, love And till the day I do, love P.S. I love you You, you, you You, you, you I love you\n"
     ]
    },
    {
     "name": "stdout",
     "output_type": "stream",
     "text": [
      "['http://www.azlyrics.com/lyrics/clash/londoncalling.html']\n"
     ]
    },
    {
     "name": "stdin",
     "output_type": "stream",
     "text": [
      " \"London Calling\"  London calling to the faraway towns Now war is declared, and battle come down London calling to the underworld Come out of the cupboard, you boys and girls London calling, now don't look to us Phoney Beatlemania has bitten the dust London calling, see we ain't got no swing Except for the ring of that truncheon thing  The ice age is coming, the sun's zooming in Meltdown expected, the wheat is growing thin Engines stop running, but I have no fear 'Cause London is drowning, and I live by the river  London calling to the imitation zone Forget it brother, you can go it alone London calling to the zombies of death Quit holding out, and draw another breath London calling, and I don't wanna shout But while we were talking, I saw you nodding out London calling, see we ain't got no high Except for that one with the yellowy eyes  The ice age is coming, the sun's zooming in Engines stop running, the wheat is growing thin A nuclear error, but I have no fear 'Cause London is drowning, and I live by the river  The ice age is coming, the sun's zooming in Engines stop running, the wheat is growing thin A nuclear error, but I have no fear 'Cause London is drowning, and I live by the river  Now get this... London calling, yes, I was there too And you know what they said? Well, some of it was true! London calling at the top of the dial And after all this, won't you give me a smile? London calling...  I never felt so much alike alike alike alike...\n"
     ]
    },
    {
     "name": "stdout",
     "output_type": "stream",
     "text": [
      "['http://www.azlyrics.com/lyrics/jamiroquai/feelsjustlikeitshould.html']\n"
     ]
    },
    {
     "name": "stdin",
     "output_type": "stream",
     "text": [
      " \"Feels Just Like It Should\"  I'm coming down to see ya I'm looking for fast and cheap I'm looking for the black moon streets  I'm gonna get experience I've been to see the candy man Just turn it up and drown  He said Feels just like it should Yeah-ow Feels just like it should Yeah-ow Feels just like it should Feels just like it should (I'm gonna get experience) Feels just like it should (turn it up and drown)  I'm throwing out my laser beam To shoot some cherries down I pick a little free agent I've got myself a five mile smile  So take me for the first time I need a little sugar spice I wanna see the city lights I'm gonna find a lover  She said Feels just like it should Feels just like it should Feels just like it should Feels just like it should I'm looking for fast and cheap  Feels just like it should (I'm looking for the city streets) Feels just like it should (gonna get experience) Feels just like it should (I'm here to see the candy man) Feels just like it should  Sugar-spice, I'm on the phone I'm outside I need a little sexfunk right now I want you I'm gonna lick you up and down Feels good She said it would feel that good and it does  Yeah-ow Yeah-ow and it feels, it feels, it feels and it feels, it feels, it feels and it feels, it feels, it feels just like you just like you said it would Yeah-ow  Feels just like it should Feels just like it should Feels just like it should I'm coming down tonight to taste y'all Sugar-spice, I want you, a sexy girl slips in, it feels good I love it when you tell me\n"
     ]
    },
    {
     "name": "stdout",
     "output_type": "stream",
     "text": [
      "['http://www.azlyrics.com/lyrics/billyjoel/justthewayyouare.html']\n"
     ]
    },
    {
     "name": "stdin",
     "output_type": "stream",
     "text": [
      " \"Just The Way You Are\"  Don't go changing, to try and please me You never let me down before Don't imagine you're too familiar And I don't see you anymore  I would not leave you in times of trouble We never could have come this far I took the good times, I'll take the bad times I'll take you just the way you are  Don't go trying some new fashion Don't change the color of your hair You always have my unspoken passion Although I might not seem to care  I don't want clever conversation I never want to work that hard I just want someone that I can talk to I want you just the way you are  I need to know that you will always be The same old someone that I knew What will it take till you believe in me The way that I believe in you  I said I love you and that's forever And this I promise from the heart I couldn't love you any better I love you just the way you are  I don't want clever conversation I never want to work that hard I just want someone that I can talk to I want you just the way you are\n"
     ]
    },
    {
     "name": "stdout",
     "output_type": "stream",
     "text": [
      "['http://www.azlyrics.com/lyrics/tonybennett/solitude.html']\n"
     ]
    },
    {
     "name": "stdin",
     "output_type": "stream",
     "text": [
      " \"Solitude\"  In my solitude you haunt me With reveries of days gone by In my solitude you taunt me With memories that never die  I sit in my chair I'm filled with despair There's no one could be so sad With gloom everywhere I sit and I stare I know that I'll soon go mad  In my solitude I'm praying Dear Lord above Send back my love  I sit in my chair I'm filled with despair There's no one could be so sad With gloom everywhere I sit and I stare I know that I'll soon go mad, go mad  In my solitude, In my solitude I'm praying Dear Lord above Send back the one I love\n"
     ]
    },
    {
     "name": "stdout",
     "output_type": "stream",
     "text": [
      "['http://www.azlyrics.com/lyrics/beachboys/californiagirls.html']\n"
     ]
    },
    {
     "name": "stdin",
     "output_type": "stream",
     "text": [
      " \"California Girls\"  Well East coast girls are hip I really dig those styles they wear And the Southern girls with the way they talk They knock me out when I'm down there  The Mid-West farmer's daughters really make you feel alright And the Northern girls with the way they kiss They keep their boyfriends warm at night  I wish they all could be California I wish they all could be California I wish they all could be California girls  The West coast has the sunshine And the girls all get so tanned I dig a french bikini on Hawaii island Dolls by a palm tree in the sand  I been all around this great big world And I seen all kinds of girls Yeah, but I couldn't wait to get back in the states Back to the cutest girls in the world  I wish they all could be California I wish they all could be California I wish they all could be California girls  I wish they all could be California (Girls, girls, girls yeah I dig the) I wish they all could be California (Girls, girls, girls yeah I dig the) I wish they all could be California (Girls, girls, girls yeah I dig the) I wish they all could be California (Girls, girls, girls yeah I dig the)\n"
     ]
    },
    {
     "name": "stdout",
     "output_type": "stream",
     "text": [
      "['http://www.lyricsfreak.com/u/u2/sunday+bloody+sunday_20141428.html']\n"
     ]
    },
    {
     "name": "stdin",
     "output_type": "stream",
     "text": [
      " U2 – Sunday Bloody Sunday Lyrics from album: War (1983) Yes...  I can't believe the news today Oh, I can't close my eyes And make it go away How long... How long must we sing this song How long, how long... 'cause tonight... We can be as one Tonight...  Broken bottles under children's feet Bodies strewn across the dead end street But I won't heed the battle call It puts my back up Puts my back up against the wall  Sunday, Bloody Sunday Sunday, Bloody Sunday Sunday, Bloody Sunday  And the battle's just begun There's many lost, but tell me who has won The trench is dug within our hearts And mothers, children, brothers, sisters Torn apart  Sunday, Bloody Sunday Sunday, Bloody Sunday  How long... How long must we sing this song How long, how long... 'cause tonight... We can be as one Tonight... Tonight...  Sunday, Bloody Sunday Sunday, Bloody Sunday  Wipe the tears from your eyes Wipe your tears away Oh, wipe your tears away Oh, wipe your tears away (Sunday, Bloody Sunday) Oh, wipe your blood shot eyes (Sunday, Bloody Sunday)  Sunday, Bloody Sunday (Sunday, Bloody Sunday) Sunday, Bloody Sunday (Sunday, Bloody Sunday)  And it's true we are immune When fact is fiction and tv reality And today the millions cry We eat and drink while tomorrow they die  (Sunday, Bloody Sunday)  The real battle just begun To claim the victory Jesus won On...  Sunday Bloody Sunday Sunday Bloody Sunday...\n"
     ]
    },
    {
     "name": "stdout",
     "output_type": "stream",
     "text": [
      "['http://www.metrolyrics.com/thats-what-friends-are-for-lyrics-dionne-warwick.html']\n"
     ]
    },
    {
     "name": "stdin",
     "output_type": "stream",
     "text": [
      " And I never thought I'd feel this way And as far as I'm concerned I'm glad I got the chance to say That I do believe, I love youAnd if I should ever go away Well, then close your eyes and try To feel the way we do today And then if you can rememberKeep smiling, keep shining Knowing you can always count on me, for sure That's what friends are for For good times and bad times I'll be on your side forever more That's what friends are for Well, you came in loving me And now there's so much more I see And so by the way I thank you(Luther Vandross) Oh and then for the times when we're apart Well, then close your eyes and know The words are coming from my heart And then if you can remember(Stevie Wonder) Keep smiling and keep shining Knowing you can always count on Stevie, for sure That's what friends are for In good times and bad times I'll be on your side forever more That's what friends are for\n"
     ]
    },
    {
     "name": "stdout",
     "output_type": "stream",
     "text": [
      "['http://www.metrolyrics.com/miss-jamaica-lyrics-jimmy-cliff.html']\n"
     ]
    },
    {
     "name": "stdin",
     "output_type": "stream",
     "text": [
      " Roses are red, violets are blue Believe me, I love you Let's not be apart Because you're the rose of my heart My sweet rose, you are my queenYou're my Miss Jamaica My Miss Jamaica You're my Miss Jamaica I'm crowning you myself Although you may not have such a fabulous shape To suit the rest of the world But you do suit me and that's all I want to know I need not know nothing moreYou're my Miss Jamaica My Miss Jamaica You're my Miss Jamaica I'm crowning you myselfAlthough you may not have such a fabulous shape To suit the rest of the world But you do suit me and that's all I want to know I need not know nothing more\n"
     ]
    },
    {
     "name": "stdout",
     "output_type": "stream",
     "text": [
      "['http://www.metrolyrics.com/last-resort-lyrics-papa-roach.html']\n"
     ]
    },
    {
     "name": "stdin",
     "output_type": "stream",
     "text": [
      " Cut my life into pieces This is my last resort Suffocation No breathingDon't give a fuck if I cut my arm, bleeding This is my last resort Cut my life into pieces I've reached my last resort Suffocation No breathing Don't give a fuck if I cut my arm, bleeding Do you even care if I die bleeding? Would it be wrong?\n"
     ]
    },
    {
     "name": "stdout",
     "output_type": "stream",
     "text": [
      "['http://www.azlyrics.com/lyrics/sade/paradise.html']\n"
     ]
    },
    {
     "name": "stdin",
     "output_type": "stream",
     "text": [
      " \"Paradise\"  I'd wash the sand off the shore Give you the world if it was mine Blow you right to my door Feels fine Feels like You're mine Feels right So fine I'm Yours You're mine Like Paradise  I'd give the world if it was mine Feels fine  Feels like You're mine I'm Yours So fine Like Paradise  I'd wash the sand off the shore Give you the world if it was mine Blow you right to my door Feels fine  Feels like You're mine Feels right So fine I'm Yours You're mine Like Paradise  Oooh what a life Oooh what a life Oooh what a life Oooh what a life  I wanna share my life Wanna share my life with you Wanna share my life  I wanna share my life Wanna share my life with you Wanna share my life  Oooh what a life Like paradise\n"
     ]
    },
    {
     "name": "stdout",
     "output_type": "stream",
     "text": [
      "['http://www.azlyrics.com/lyrics/dmx/bringyourwholecrew.html']\n"
     ]
    },
    {
     "name": "stdin",
     "output_type": "stream",
     "text": [
      " \"Bring Your Whole Crew\"  Uhh, ahhh! C'mon! Uhh! Uh-huh! But they don't hear me though Uhh, but they don't hear me though Uhh, but they don't, they don't, they don't, they don't—  I got blood on my hands and there's no remorse And got blood on my dick cause I fucked a corpse (C'mon!) I'm a nasty nigga – when you pass me nigga look me in my eyes (What?!) Tell me to my fuckin face that you ready to die (C'mon!) You be a dead motherfucker, red motherfucker (Uh!) Don't be stupid, you heard what I said motherfucker (Uh!) Who shot you? Aww nigga, like you don't know (Woo!) Stickin you for yo' dough while I'm fuckin yo' broke ho (What?!) Yo! Don't you get the picture? Niggas can't touch me (Uh!) Cause I don't give a fuck G, I'll get you touched B I got joints that with one slug could take apart a door And enough crazy niggas behind me to start a war (C'mon!) So what you want nigga? Help, cause youse about to rest (Uh!) When I'm fed, Red Cross couldn't clean up the mess And a vest will do nuttin' but make you look a little thicker (Yeah!) Cause in the dark – you ain't nuttin' but a lil' nigga (What?!) And if you'd been thinkin' about that shit you did You wouldn't have brought the joint, wit' you kid (Uh, uh, uh, uh!) Now I'ma have to get you kid, and split your wig, wit' the machete (What?!) I bring beef to niggas, and string em out, like spaghetti (C'mon!) You ain't ready – nor can you stand how I'm bringin' it (Uh!) I'm givin' it is how I'm livin' it so I'm swingin' it (Uh!) Red dot on your head, cause youse in mid range Red dot on your chest, opens up your rib cage, nigga!  [P Killer Trakz:] I just love when a nigga bring his whole crew It's just a bigger piece of cake for me to chew a hole through I just love when a nigga bring his whole crew It's just a bigger piece of cake for me to chew a hole through I just love when a nigga bring his whole crew It's just a bigger piece of cake for me to chew a hole through I just love when a nigga bring his whole crew It's just a bigger piece of cake for me to chew a hole through  Now if your heart was as big as your mouth, you'd be real But it's not – so I know if you get knocked, you'll squeal Like a bitch, cause you is a bitch and always been a bitch (Oh, oh, oh!) And you know how niggas do a bitch we run up in a bitch (Ooh!) Put something in a bitch – nigga do you know me, nigga do you owe me? (Uh-huh) Figured you could blow me? Well I'ma let this trigger fill you homey Y'all niggas gots to be smokin' somethin' thinkin' you chokin' somethin' (Uh!) Fuckin around wit' me you'll be a broken somethin' (Woo!) I'm out for 'Blood' with the 'Crips' at war How much shit could you talk wit' your lips on the floor? Pussy niggas make me itch, so I scratch, youse a bitch (Uh, uh, uh) So I snatch up your face, fake-ass pit so I scratch you (Uh, uh, c'mon!) Yeah there was a time, when I woulda jumped up and choked this nigga (But now) But now I'm on some shit like, \"Yo, smoke this nigga!\" (Uh-huh!) I'm 'bout to find out how much guts you got before I spill em Somebody come and get this muh'fucker before I kill him (Please) (Arf!) Fresh out the asylum, I'm wilin Y'all niggas know the phone numbers for help you best to dial em (Ayy!) Nine-one-one, emergency, the urgency Will have witnesses seein' what the surgeon see (Woo!) How far you gon' get, wit' your dome split fool! I catch your man slippin' cause he think his shit cool (C'mon!) But it ain't, so I paint the walls with his blood (Uh, uh, uh) Another dick in the mud – nigga, WHAT?!  [P Killer Trakz:] I just love when a nigga bring his whole crew It's just a bigger piece of cake for me to chew a hole through I just love when a nigga bring his whole crew It's just a bigger piece of cake for me to chew a hole through I just love when a nigga bring his whole crew It's just a bigger piece of cake for me to chew a hole through I just love when a nigga bring his whole crew It's just a bigger piece of cake for me to chew a hole through  [Ruff Ryders:] (C'mon!) Hey yo, you know who this is for? They let the dogs in the door (C'mon, c'mon, yeah!) Hey yo, you know who this is for? (C'mon!) They let the dogs in the door (Yeah, yeah)  [P Killer Trakz:] I just love when a nigga bring his whole crew It's just a bigger piece of cake for me to chew a hole through I just love when a nigga bring his whole crew It's just a bigger piece of cake for me to chew a hole through I just love when a nigga bring his whole crew It's just a bigger piece of cake for me to chew a hole through I just love when a nigga bring his whole crew It's just a bigger piece of cake for me to chew a hole through I just love when a nigga bring his whole crew It's just a bigger piece of cake for me to chew a hole through (C'mon!) I just love—\n"
     ]
    },
    {
     "name": "stdout",
     "output_type": "stream",
     "text": [
      "['http://www.azlyrics.com/lyrics/godsmack/ifuckinghateyou.html']\n"
     ]
    },
    {
     "name": "stdin",
     "output_type": "stream",
     "text": [
      " \"I Fucking Hate You\"  For everything you do I'd like to swallow you And everyday I'm gonna blame you Even if you justify Every fucking bullshit lie It only makes me want to break you You pull me down And you crucify my name You make me insane It's broken now Don't ever look my way Don't even think I'm playin' 'Cause I fucking hate you You're such a liar And I love to hate you You're all the same to me When you repeatedly Take advantage of me The only thought I get of you sickens me Everybody knows you're fake You're everything I fucking hate And I'm everything that you could never be You pull me down And you crucify my name You make me insane It's broken now Don't ever look my way Don't even think I'm playin' 'Cause I fucking hate you You're such a liar And I love to hate you You're all the same to me I fucking hate you You're such a liar And I love to hate you You're all the same to me (Fuck you) (Fuck you) (Fuck you) You pull me down And you crucify my name You make me insane It's broken now Don't ever look my way Don't even think I'm playin' 'Cause I fucking hate you You're such a liar And I love to hate you You're all the same to me And I fucking hate you You're such a liar And I love to hate you You're all the same to me Fuck you (fuck you) Fuck you (fuck you) Fuck you (fuck you) Fuck you (fuck you)\n"
     ]
    },
    {
     "name": "stdout",
     "output_type": "stream",
     "text": [
      "['http://www.azlyrics.com/lyrics/ericclapton/tearsinheaven.html']\n"
     ]
    },
    {
     "name": "stdin",
     "output_type": "stream",
     "text": [
      " \"Tears In Heaven\"  Would you know my name If I saw you in heaven? Would it be the same If I saw you in heaven?  I must be strong And carry on 'Cause I know I don't belong Here in heaven  Would you hold my hand If I saw you in heaven? Would you help me stand If I saw you in heaven?  I'll find my way Through night and day 'Cause I know I just can't stay Here in heaven  Time can bring you down Time can bend your knees Time can break your heart Have you begging please, begging please  Beyond the door There's peace I'm sure And I know there'll be no more Tears in heaven  Would you know my name If I saw you in heaven? Would you be the same If I saw you in heaven?  I must be strong And carry on 'Cause I know I don't belong Here in heaven  'Cause I know I don't belong Here in heaven\n"
     ]
    },
    {
     "name": "stdout",
     "output_type": "stream",
     "text": [
      "['http://www.azlyrics.com/lyrics/johndenver/whitechristmas.html']\n"
     ]
    },
    {
     "name": "stdin",
     "output_type": "stream",
     "text": [
      " \"White Christmas\"  I'm dreaming of a white Christmas. Just like the ones I used to know. Where the tree tops glisten And children listen To hear sleighbells in the snow.  I'm dreaming of a white Christmas. With every christmas card I write. May your days be merry and bright. And may all your Christmasses be white.  I'm dreaming of a white Christmas. With every christmas card I write. May your days be merry and bright. And may all your Christmasses be white.\n"
     ]
    },
    {
     "name": "stdout",
     "output_type": "stream",
     "text": [
      "['http://www.azlyrics.com/lyrics/enya/mayitbe.html']\n"
     ]
    },
    {
     "name": "stdin",
     "output_type": "stream",
     "text": [
      " \"May It Be\" (from \"The Lord Of The Rings\" soundtrack)  May it be an evening star Shines down upon you May it be when darkness falls Your heart will be true You walk a lonely road Oh! How far you are from home  Mornië utúlië (Darkness has come) Believe and you will find your way Mornië alantië (Darkness has fallen) A promise lives within you now  May it be the shadow's call Will fly away May it be you journey on To light the day When the night is overcome You may rise to find the sun  Mornië utúlië (Darkness has come) Believe and you will find your way  Mornië alantië (Darkness has fallen) A promise lives within you now  A promise lives within you now\n"
     ]
    },
    {
     "name": "stdout",
     "output_type": "stream",
     "text": [
      "['http://www.azlyrics.com/lyrics/anathema/anaturaldisaster.html']\n"
     ]
    },
    {
     "name": "stdin",
     "output_type": "stream",
     "text": [
      " \"A Natural Disaster\"  It's been a long cold winter without you I've been crying on the inside over you You just slipped through my fingers as life turned away It's been a long cold winter since that day  And it's hard to find, hard to find Hard to find the strength now but I try And I don't want to, don't want to Don't want to go on and speak now of what's gone by  Cos no matter what I say No matter what I do I can't change what happened I can't change what happened No matter what I say No matter what I do I can't change what happened I can't change what happened No matter what I say No matter what I do I can't change what happened I can't change what happened No no I can't change  You just slipped through my fingers And I feel so ashamed You just slipped through my fingers And I failed  Cos no matter what I say No matter what I do I can't change what happened I can't change what happened No matter what I say No matter what I do I can't change what happened I can't change what happened No matter what I say No matter what I do I can't change what happened I can't change what happened No no I can't change  You just slipped through my fingers And I feel so ashamed You just slipped through my fingers And I failed\n"
     ]
    },
    {
     "name": "stdout",
     "output_type": "stream",
     "text": [
      "['http://www.azlyrics.com/lyrics/dreamtheater/disappear.html']\n"
     ]
    },
    {
     "name": "stdin",
     "output_type": "stream",
     "text": [
      " \"Disappear\"  [music by Myung, Petrucci, Portnoy, Rudess] [lyrics by James LaBrie]  Why, tell me the reasons why Try, still I don't understand Will I ever feel this again Blue sky, I'll meet you in the end Free them, free the memories of you Free me, and rest 'til I'm with you  A day like today My whole world has been changed Nothing you say Will help ease my pain  Turn, I'll turn this slowly round Burn, burn to feel alive again She, she'd want me to move on See me, this place I still belong Give chase, to find more than I have found And face, this time now on my own  Days disappear And my world keeps changing I feel you here And it keeps me sane  So I'm moving on I'll never forget As you lay there and watched me Accepting the end I knew you were scared You were strong I was trying I gave you my hand I said it's okay letting go time to leave here And I'll carry on The best that I can without you here beside me Let him come take you home\n"
     ]
    },
    {
     "name": "stdout",
     "output_type": "stream",
     "text": [
      "['http://www.azlyrics.com/lyrics/joydivision/theeternal.html']\n"
     ]
    },
    {
     "name": "stdin",
     "output_type": "stream",
     "text": [
      " \"The Eternal\"  Procession moves on, the shouting is over, Praise to the glory of loved ones now gone. Talking aloud as they sit round their tables, Scattering flowers washed down by the rain. Stood by the gate at the foot of the garden, Watching them pass like clouds in the sky, Try to cry out in the heat of the moment, Possessed by a fury that burns from inside.  Cry like a child, though these years make me older, With children my time is so wastefully spent, A burden to keep, though their inner communion, Accept like a curse an unlucky deal. Played by the gate at the foot of the garden, My view stretches out from the fence to the wall, No words could explain, no actions determine, Just watching the trees and the leaves as they fall.\n"
     ]
    },
    {
     "name": "stdout",
     "output_type": "stream",
     "text": [
      "['http://www.azlyrics.com/lyrics/abba/dancingqueen.html']\n"
     ]
    },
    {
     "name": "stdin",
     "output_type": "stream",
     "text": [
      " \"Dancing Queen\"  Ooh, you can dance, you can jive Having the time of your life Ooh, see that girl, watch that scene Digging the dancing queen  Friday night and the lights are low Looking out for a place to go Where they play the right music, getting in the swing You come to look for a king  Anybody could be that guy Night is young and the music's high With a bit of rock music, everything is fine You're in the mood for a dance And when you get the chance  You are the dancing queen Young and sweet, only seventeen Dancing queen Feel the beat from the tambourine Oh, yeah  You can dance, you can jive Having the time of your life Ooh, see that girl, watch that scene Digging the dancing queen  You're a teaser, you turn 'em on Leave them burning and then you're gone Looking out for another, anyone will do You're in the mood for a dance And when you get the chance  You are the dancing queen Young and sweet, only seventeen Dancing queen Feel the beat from the tambourine Oh, yeah  You can dance, you can jive Having the time of your life Ooh, see that girl, watch that scene Digging the dancing queen  Digging the dancing queen\n"
     ]
    },
    {
     "name": "stdout",
     "output_type": "stream",
     "text": [
      "['http://www.azlyrics.com/lyrics/beachboys/doyouwannadance.html']\n"
     ]
    },
    {
     "name": "stdin",
     "output_type": "stream",
     "text": [
      " \"Do You Wanna Dance?\"  Do you want to dance and hold my hand Tell me baby I'm your lover man Oh baby do you want to dance?  Do you want to dance under the moonlight Hold me baby all through the night Oh baby Do you want to dance? Do you, do you, do you Do you want to dance Do you, do you, do you Do you want to dance Do you, do you, do you Do you want to dance?  Do you want to dance under the moonlight Kiss me baby all through the night Oh baby Do you want to dance?  Do you want to dance under the moonlight Squeeze me, squeeze me baby all through the night Oh baby Do you want to dance? Do you, do you, do you Do you want to dance Do you, do you, do you Do you want to dance Do you, do you, do you Do you want to dance?  Do you, do you, do you Do you want to dance Do you, do you, do you Do you want to dance Do you, do you, do you Do you want to dance  Do you, do you, do you Do you want to dance Do you, do you, do you Do you want to dance Do you, do you, do you Do you want to dance\n"
     ]
    },
    {
     "name": "stdout",
     "output_type": "stream",
     "text": [
      "['http://www.azlyrics.com/lyrics/maryjblige/beautifulday.html']\n"
     ]
    },
    {
     "name": "stdin",
     "output_type": "stream",
     "text": [
      " \"Beautiful Day\"  Tired of living like my days are bad When I open up my eyes, I'm glad And I can't complain 'bout yesterday Cuz today's a brand new day  Comb my hair and though some like it wrong Jump in my ride because it's on And I'm gone, I'm gone  [1] - I woke up this morning Opened up my eyes and prayed, Lord Cuz it's a beautiful day No matter what nobody say  Even though it's cloudy I can see the sun rays Oh, cuz it's a beautiful day No matter what nobody say Cuz it's a beautiful day, a beautiful day  Life just can't get no better than this Mother Nature's given us a kiss Cuz tomorrow I'm glad I didn't miss Let's take advantage of days like this When the night time does finally hit There'll be no reason for guns It'll be fun, fun, fun, fun  [Repeat 1]  Everything is good because I'm living and I'm healthy I'm not too concerned 'bout being poor or being wealthy I feel really good about this blessing given to me Nothing in this world could ever take all my joy from me  It's beautiful, it's beautiful It's beautiful, it's beautiful It's beautiful  A beautiful day, a beautiful day A beautiful day, a beautiful day  [Repeat 1]  I don't have a complain in the world I am doing so good Without, without, without the money Without, without, without the stress Without, without, without the people, oh yeah  [Repeat 1 until fade]\n"
     ]
    },
    {
     "name": "stdout",
     "output_type": "stream",
     "text": [
      "['http://www.azlyrics.com/lyrics/johnnycash/hurt.html']\n"
     ]
    },
    {
     "name": "stdin",
     "output_type": "stream",
     "text": [
      " \"Hurt\" (originally by Nine Inch Nails)  I hurt myself today To see if I still feel I focus on the pain The only thing that's real The needle tears a hole The old familiar sting Try to kill it all away But I remember everything  What have I become My sweetest friend Everyone I know goes away In the end And you could have it all My empire of dirt I will let you down I will make you hurt  I wear this crown of thorns Upon my liar's chair Full of broken thoughts I cannot repair Beneath the stains of time The feelings disappear You are someone else I am still right here  What have I become My sweetest friend Everyone I know goes away In the end And you could have it all My empire of dirt I will let you down I will make you hurt  If I could start again A million miles away I would keep myself I would find a way\n"
     ]
    },
    {
     "name": "stdout",
     "output_type": "stream",
     "text": [
      "['http://www.azlyrics.com/lyrics/madonna/laislabonita.html']\n"
     ]
    },
    {
     "name": "stdin",
     "output_type": "stream",
     "text": [
      " \"La Isla Bonita\"  ¿Cómo puede ser verdad? [English translation: \"How could it be true?\"]  Last night I dreamt of San Pedro Just like I'd never gone, I knew the song A young girl with eyes like the desert It all seems like yesterday, not far away  Tropical the island breeze All of nature wild and free This is where I long to be La isla bonita [\"The beautiful island\"]  And when the samba played The sun would set so high Ring through my ears and sting my eyes Your Spanish lullaby  I fell in love with San Pedro Warm wind carried on the sea, he called to me Te dijo te amo [\"He told you, 'I love you.'\"] I prayed that the days would last They went so fast  Tropical the island breeze All of nature wild and free This is where I long to be La isla bonita  And when the samba played The sun would set so high Ring through my ears and sting my eyes Your Spanish lullaby  I want to be where the sun warms the sky When it's time for siesta you can watch them go by Beautiful faces, no cares in this world Where a girl loves a boy, and a boy loves a girl  Last night I dreamt of San Pedro It all seems like yesterday, not far away  Tropical the island breeze All of nature wild and free This is where I long to be La isla bonita  And when the samba played The sun would set so high Ring through my ears and sting my eyes Your Spanish lullaby  Tropical the island breeze All of nature wild and free This is where I long to be La isla bonita  And when the samba played The sun would set so high Ring through my ears and sting my eyes Your Spanish lullaby  Te dijo te amo El dijo que te ama [\"He said he loves you\"]  La isla bonita Your Spanish lullaby\n"
     ]
    },
    {
     "name": "stdout",
     "output_type": "stream",
     "text": [
      "['http://www.metrolyrics.com/everbody-hurts-lyrics-rem.html']\n"
     ]
    },
    {
     "name": "stdin",
     "output_type": "stream",
     "text": [
      " Last.fm's Current Most Loved Pop TracksX When your day is long Andhttp://www.metrolyrics.com/everbody-hurts-lyrics-rem.html the night, the night is yours alone When you're sure you've had enough Of this life, well hang onDon't let yourself go 'Cause everybody cries And everybody hurts sometimesSometimes everything is wrong Now it's time to sing along When your day is night alone (hold on, hold on) If you feel like letting go (hold on) If you think you've had too much Of this life, well hang on Cause everybody hurts Take comfort in your friends Everybody hurts Don't throw your hand, oh noDon't throw your hand If you feel like you're alone No, no, no, you are not aloneIf you're on your own in this life The days and nights are long When you think you've had too much of this life to hang on\n"
     ]
    },
    {
     "name": "stdout",
     "output_type": "stream",
     "text": [
      "['http://www.azlyrics.com/lyrics/acdc/highwaytohell.html']\n"
     ]
    },
    {
     "name": "stdin",
     "output_type": "stream",
     "text": [
      " \"Highway To Hell\"  Livin' easy Lovin' free Season ticket on a one way ride Askin' nothin' Leave me be Takin' everythin' in my stride Don't need reason Don't need rhyme Ain't nothin' that I'd rather do Goin' down Party time My friends are gonna be there too  I'm on the highway to hell On the highway to hell Highway to hell I'm on the highway to hell  No stop signs Speed limit Nobody's gonna slow me down Like a wheel Gonna spin it Nobody's gonna mess me around Hey, Satan Payin' my dues Playin' in a rockin' band Hey, mamma Look at me I'm on the way to the promised land  I'm on the highway to hell Highway to hell I'm on the highway to hell Highway to hell  Don't stop me  I'm on the highway to hell On the highway to hell I'm on the highway to hell On the highway to hell  (highway to hell) I'm on the highway to hell (highway to hell) highway to hell (highway to hell) highway to hell (highway to hell)  And I'm goin' down All the way I'm on the highway to hell\n"
     ]
    },
    {
     "name": "stdout",
     "output_type": "stream",
     "text": [
      "['http://www.azlyrics.com/lyrics/shakira/wheneverwherever.html']\n"
     ]
    },
    {
     "name": "stdin",
     "output_type": "stream",
     "text": [
      " \"Whenever, Wherever\"  Lucky you were born that far away so We could both make fun of distance Lucky that I love a foreign land for The lucky fact of your existence  Baby I would climb the Andes solely To count the freckles on your body Never could imagine there were only Ten million ways to love somebody  Le ro lo le lo le, le ro lo le lo le Can't you see I'm at your feet  Whenever, wherever We're meant to be together I'll be there and you'll be near And that's the deal my dear  Thereover, hereunder You'll never have to wonder We can always play by ear But that's the deal my dear  Lucky that my lips not only mumble They spill kisses like a fountain Lucky that my breasts are small and humble So you don't confuse them with mountains Lucky I have strong legs like my mother To run for cover when I need it And these two eyes that for no other The day you leave will cry a river  Le ro le le lo le, le ro le le lo le At your feet I'm at your feet  Whenever, wherever We're meant to be together I'll be there and you'll be near And that's the deal my dear  Thereover, hereunder You'll never have to wonder We can always play by ear But that's the deal my dear  Le ro le le lo le, le ro le le lo le Think out loud Say it again  Le ro lo le lo le lo le Tell me one more time That you'll live Lost in my eyes  Whenever, wherever We're meant to be together I'll be there and you'll be near And that's the deal my dear  Thereover, hereunder You've got me head over heels There's nothing left to fear If you really feel the way I feel  Whenever, wherever We're meant to be together I'll be there and you'll be near And that's the deal my dear  Thereover, hereunder You've got me head over heels There's nothing left to fear If you really feel the way I feel\n"
     ]
    },
    {
     "name": "stdout",
     "output_type": "stream",
     "text": [
      "['http://www.azlyrics.com/lyrics/slayer/cantstandyou.html']\n"
     ]
    },
    {
     "name": "stdin",
     "output_type": "stream",
     "text": [
      " \"Can't Stand You\" (originally by Pap Smear)  Can't stand - The way you look The way you talk The way you act Can't stand you  Do I think - You're a dick - Yeah You're a fuck - Yeah We'll fight - Yeah  Do I think you'll win - No  Do I think you're stupid - Yeah Do I think you're lame - Yeah Am I stressing You're the one to blame  [Repeat intro.]  I open my mouth at the wrong time Always ranking on somebody I'm drunk all the time Throwing beer bottles and spitting in your face Checking through the purse Of the slut in our place  She'll never notice if her money is gone Piss in her jacket And just send her along\n"
     ]
    },
    {
     "name": "stdout",
     "output_type": "stream",
     "text": [
      "['http://www.azlyrics.com/lyrics/acdc/hellsbells.html']\n"
     ]
    },
    {
     "name": "stdin",
     "output_type": "stream",
     "text": [
      " \"Hells Bells\" (from \"Who Made Who\" soundtrack)  I'm rolling thunder pouring rain I'm coming on like a hurricane My lightning's flashing across the sky You're only young but you're gonna die I won't take no prisoners won't spare no lives Nobody's putting up a fight I got my bell I'm gonna take you to hell I'm gonna get ya Satan get ya  Hells bells Hells bells, you got me ringing Hells bells, my temperature's high Hells bells  I'll give you black sensations up and down your spine If you're into evil you're a friend of mine See the white light flashing as I split the night Cause if good's on the left then I'm sticking to the right I won't take no prisoners won't spare no lives Nobody's puttin' up a fight I got my bell I'm gonna take you to hell I'm gonna get ya Satan get ya  Hells bells Hells bells, you got me ringing Hells bells, my temperature's high Hells bells  Hells bells, Satan's coming to you Hells bells, he's ringing them now  Those hells bells, the temperature's high Hells bells, across the sky Hells bells, they're taking you down Hells bells, they're dragging you under Hells bells, gonna split the night Hells bells, there's no way to fight  Hells bells\n"
     ]
    },
    {
     "name": "stdout",
     "output_type": "stream",
     "text": [
      "['http://www.lyricsfreak.com/b/bruce+springsteen/born+in+the+u+s+a_20024969.html']\n"
     ]
    },
    {
     "name": "stdin",
     "output_type": "stream",
     "text": [
      " Bruce Springsteen – Born In The U. S. A. Lyrics Born down in a dead man town The first kick I took was when I hit the ground You end up like a dog that's been beat too much Till you spend half your life just covering up  Born in the U. S. A, I was born in the U. S. A I was born in the U. S. A, born in the U. S. A  Got in a little hometown jam So they put a rifle in my hand Sent me off to a foreign land To go and kill the yellow man  Born in the U. S. A...  Come back home to the refinery Hiring man said son if it was up to me Went down to see my V. A. Man He said son, don't you understand  I had a brother at Khe Sahn Fighting off the Viet Cong They're still there, he's all gone  He had a woman he loved in Saigon I got a picture of him in her arms now  Down in the shadow of the penitentiary Out by the gas fires of the refinery I'm ten years burning down the road Nowhere to run aint got nowhere to go  Born in the U. S. A, I was born in the U. S. A Born in the U. S. A, I'm a long gone daddy in the U. S. A Born in the U. S. A., born in the U. S. A Born in the U. S. A, I'm a cool rocking daddy in the U. S. A\n"
     ]
    },
    {
     "name": "stdout",
     "output_type": "stream",
     "text": [
      "['http://www.azlyrics.com/lyrics/franksinatra/overtherainbow.html']\n"
     ]
    },
    {
     "name": "stdin",
     "output_type": "stream",
     "text": [
      " \"Over The Rainbow\"  Somewhere, over the rainbow Way up high There's a land that I heard of Once in a lullaby  Somewhere, over the rainbow Skies are blue And the dreams that you dare to dream Really do come true  Some day I'll wish upon a star and wake up Where the clouds are far behind me Where trouble melt like lemon drops away above The chimney tops, that's where you'll find me  Somewhere, over the rainbow Blue birds fly Birds fly over the rainbow Why then oh why can't I?  When all the world is a hopeless jumble And the raindrops tumble all around Heaven opens a magic lane to a place behind the sun Just a step behind the rain  Somewhere, over the rainbow Blue birds fly Birds fly over the rainbow Why then, oh why can't I?  If happy little blue birds fly beyond the rainbow Why, oh why can't I?\n"
     ]
    },
    {
     "name": "stdout",
     "output_type": "stream",
     "text": [
      "['http://www.azlyrics.com/lyrics/aimeemann/wiseup.html']\n"
     ]
    },
    {
     "name": "stdin",
     "output_type": "stream",
     "text": [
      " \"Wise Up\"  It's not what you thought When you first began it You got what you want Now you can hardly stand it, though By now you know It's not going to stop It's not going to stop It's not going to stop Till you wise up  You're sure there's a cure And you have finally found it You think one drink Will shrink you till you're underground And living down But it's not going to stop It's not going to stop It's not going to stop Till you wise up  Prepare a list for what you need Before you sign away the deed 'Cause it's not going to stop It's not going to stop It's not going to stop Till you wise up  No, it's not going to stop Till you wise up No, it's not going to stop So just give up\n"
     ]
    },
    {
     "name": "stdout",
     "output_type": "stream",
     "text": [
      "['http://www.azlyrics.com/lyrics/garyjules/madworld.html']\n"
     ]
    },
    {
     "name": "stdin",
     "output_type": "stream",
     "text": [
      " \"Mad World\" (originally by Tears for Fears)  All around me are familiar faces Worn out places, worn out faces Bright and early for their daily races Going nowhere, going nowhere  Their tears are filling up their glasses No expression, no expression Hide my head, I wanna drown my sorrow No tomorrow, no tomorrow  And I find it kinda funny I find it kinda sad The dreams in which I'm dying Are the best I've ever had I find it hard to tell you I find it hard to take When people run in circles It's a very, very mad world, mad world  Children waiting for the day they feel good Happy Birthday, Happy Birthday And I feel the way that every child should Sit and listen, sit and listen  Went to school and I was very nervous No one knew me, no one knew me Hello teacher tell me what's my lesson Look right through me, look right through me  And I find it kinda funny I find it kinda sad The dreams in which I'm dying Are the best I've ever had I find it hard to tell you I find it hard to take When people run in circles It's a very, very mad world, mad world  Enlarging your world Mad world\n"
     ]
    },
    {
     "name": "stdout",
     "output_type": "stream",
     "text": [
      "['http://www.azlyrics.com/lyrics/ironmaiden/aceshigh.html']\n"
     ]
    },
    {
     "name": "stdin",
     "output_type": "stream",
     "text": [
      " \"Aces High\"  There goes the siren that warns of the air raid Then comes the sound of the guns sending flak Out for the scramble we've got to get airborne Got to get up for the coming attack.  Jump in the cockpit and start up the engines Remove all the wheel blocks There's no time to waste Gathering speed as we head down the runway Got to get airborne before it's too late  Running, scrambling, flying Rolling, turning, diving, Going in again Running, scrambling, flying Rolling, turning, diving,  Run, live to fly, fly to live, do or die Won't you run, live to fly, fly to live, aces high  Move in to fire at the mainstream of bombers Let off a sharp burst and then turn away Roll over, spin round to come in behind them Move to their blindsides and firing again  Bandits at 8 o'clock move in behind us Ten ME-109s out of the sun Ascending and turning our Spitfires to face them Heading straight for them I press down my guns.  Rolling, turning, diving Rolling, turning, diving, Going in again Rolling, turning, diving Rolling, turning, diving  Run, live to fly, fly to live, do or die Won't you run, live to fly, fly to live, aces high.\n"
     ]
    },
    {
     "name": "stdout",
     "output_type": "stream",
     "text": [
      "['http://www.vangelislyrics.com/vangelis-albedo-lyrics.htm']\n"
     ]
    },
    {
     "name": "stdin",
     "output_type": "stream",
     "text": [
      " \n"
     ]
    },
    {
     "name": "stdout",
     "output_type": "stream",
     "text": [
      "['http://www.lyricsfreak.com/l/lionel+richie/all+night+long_20083829.html']\n"
     ]
    },
    {
     "name": "stdin",
     "output_type": "stream",
     "text": [
      " Lionel Richie – All Night Long Lyrics from album: Can't Slow Down (1983) Da Da, ooooh Well, my friends, the time has come (To) raise the roof and have some fun Throw away the work to be done Let the music play on....(Play on, play on, play on..) Everybody sing, everybody dance Lose yourself in wild romance We're going to Party, Karamu, Fiesta, forever Come on and sing along! We're going to Party, Karamu, Fiesta, forever Come on and sing along!  All night long (all night), All night (all night) All night long (all night), All night (all night) All night long (all night), All night (all night) All night long! (all night), Ooh, yeah (all night)  People dancing all in the street See the rhythm all in their feet Life is good, wild and sweet Let the music play on...(Play on, play on, play on...) Feel it in your heart and feel it in your soul Let the music take control We're going to Party, Liming, Fiesta, forever Come on and sing along We're going to Party, Liming, Fiesta, forever Come on and sing my song!  All night long (all night), oooh, (all night) All night long (all night), yeaz, (all night) All night long (all night), yeah, (all night) All night long (all night)...(all night)  Yeah, once you get started you can't sit down Come join the fun, it's a merry-go-round Everyone's dancing their troubles away Come join our party, See how we play!  [Chant} Tam bo li de say de moi ya Hey Jambo Jumbo Way to parti o we goin' Oh, jambali Tam bo li de say de moi ya Yeah, Jambo, jumbo  Oh, O, O, O, yes We're going to have a party! (Yeah... Ugh)  All night long (all night), All night, (all night) All night long (all night), All night, (all night) All night long (all night), All night, (all night) All night long (all night)...(ugh)  We're going to Party, Kalamu, Fiesta, forever Come on and sing along! We're going to Party, Kalamu, Fiesta, forever Come on and sing my song!  All night long (all night), All night, (all night) All night long (all night), All night, (all night) All night long (all night), All night, (all night) All night long (all night)...(ugh)  All night, (all night), All night, (all night), All night, (all night), All night, (all night), All night, (all night), All night, (all night), All night, (all night), Ugh, (all night),  Everyone you meet (all night) They're jamming in the street (all night) All night long! (All night) Yeah, I said, (All night) Everyone you meet (All night) They're jamming in the street (All night) All night long! (All night) Feel good! Feel good! (All night) (All night to fade)\n"
     ]
    },
    {
     "name": "stdout",
     "output_type": "stream",
     "text": [
      "['http://www.azlyrics.com/lyrics/enya/thejourneyoftheangels.html']\n"
     ]
    },
    {
     "name": "stdin",
     "output_type": "stream",
     "text": [
      " \"Journey Of The Angels\"  Somewhere in a winter night The angels begin their flight Dark skies with miles to go No footsteps to be lost in snow  They fly to You Oh, new-born King They fly to You Oh, angels sing  One is sorrow, one is peace One will come to give You sleep One is comfort, one is grief One will take the tears You weep  New star in a midnight sky In heaven, all the angels fly Soft wings so true And all things they will give to You  Somewhere in a winter night The angels begin their flight  Tonight all sing Oh, angels, a new-born King Tonight all sing Oh, angels, a new-born King\n"
     ]
    },
    {
     "name": "stdout",
     "output_type": "stream",
     "text": [
      "['http://www.azlyrics.com/lyrics/loreenamckennitt/theladyofshalott.html']\n"
     ]
    },
    {
     "name": "stdin",
     "output_type": "stream",
     "text": [
      " \"The Lady Of Shalott\"  On either side of the river lie Long fields of barley and of rye, That clothe the world and meet the sky; And thro' the field the road run by To many-towered Camelot; And up and down the people go, Gazing where the lilies blow Round an island there below, The island of Shalott.  Willows whiten, aspens quiver, Little breezes dusk and shiver Thro' the wave that runs for ever By the island in the river Flowing down to Camelot. Four grey walls, and four grey towers, Overlook a space of flowers, And the silent isle imbowers The Lady of Shalott.  Only reapers, reaping early, In among the bearded barley Hear a song that echoes cheerly From the river winding clearly Down to tower'd Camelot; And by the moon the reaper weary, Piling sheaves in uplands airy, Listening, whispers \"'tis the fairy The Lady of Shalott.\"  There she weaves by night and day A magic web with colours gay, She has heard a whisper say, A curse is on her if she stay To look down to Camelot. She knows not what the curse may be, And so she weaveth steadily, And little other care hath she, The Lady of Shalott.  And moving through a mirror clear That hangs before her all the year, Shadows of the world appear. There she sees the highway near Winding down to Camelot; And sometimes thro' the mirror blue The Knights come riding two and two. She hath no loyal Knight and true, The Lady Of Shalott.  But in her web she still delights To weave the mirror's magic sights, For often thro' the silent nights A funeral, with plumes and lights And music, went to Camelot; Or when the Moon was overhead, Came two young lovers lately wed. \"I am half sick of shadows,\" said The Lady Of Shalott.  A bow-shot from her bower-eaves, He rode between the barley sheaves, The sun came dazzling thro' the leaves, And flamed upon the brazen greaves Of bold Sir Lancelot. A red-cross knight for ever kneel'd To a lady in his shield, That sparkled on the yellow field, Beside remote Shalott.  His broad clear brow in sunlight glow'd; On burnish'd hooves his war-horse trode; From underneath his helmet flow'd His coal-black curls as on he rode, As he rode back to Camelot. From the bank and from the river He flashed into the crystal mirror, \"Tirra Lirra,\" by the river Sang Sir Lancelot.  She left the web, she left the loom, She made three paces taro' the room, She saw the water-lily bloom, She saw the helmet and the plume, She looked down to Camelot. Out flew the web and floated wide; The mirror cracked from side to side; \"The curse is come upon me,\" cried The Lady of Shalott.  In the stormy east-wind straining, The pale yellow woods were waning, The broad stream in his banks complaining. Heavily the low sky raining Over towered Camelot; Down she came and found a boat Beneath a willow left afloat, And round about the prow she wrote The Lady of Shalott  And down the river's dim expanse Like some bold seer in a trance, Seeing all his own mischance - With a glassy countenance Did she look to Camelot. And at the closing of the day She loosed the chain and down she lay; The broad stream bore her far away, The Lady of Shalott.  Heard a carol, mournful, holy, Chanted loudly, chanted lowly, Till her blood was frozen slowly, And her eyes were darkened wholly, Turn'd to towered Camelot. For ere she reach'd upon the tide The first house by the water-side, Singing in her song she died, The Lady of Shalott.  Under tower and balcony, By garden-wall and gallery, A gleaming shape she floated by, Dead-pale between the houses high, Silent into Camelot. Out upon the wharfs they came, Knight and Burgher, Lord and Dame, And round the prow they read her name, The Lady of Shalott.  Who is this? And what is here? And in the lighted palace near Died the sound of royal cheer; And they crossed themselves for fear, All the Knights at Camelot; But Lancelot mused a little space He said, \"She has a lovely face; God in his mercy lend her grace, The Lady of Shalott.\"\n"
     ]
    },
    {
     "name": "stdout",
     "output_type": "stream",
     "text": [
      "['http://www.azlyrics.com/lyrics/fivefingerdeathpunch/ashes.html']\n"
     ]
    },
    {
     "name": "stdin",
     "output_type": "stream",
     "text": [
      " \"Ashes\"  You don't understand me, And you probably never will I got a tendency to self destruct, And a soft spot for the filth A hair trigger temperament, A switchblade for a tongue I'm a walking one-man genocide With a black belt in corrupt  Everything I touch turns to ashes Falls away, it falls away Everything I touch turns to ashes It slips right through my hands  Love me, hate me Isolate me everyday that I'm alive Straight up mentally unstable You don't have to like my life  I'm a jinx, a curse, some say, \"the worst\" I'm a savage, rabid beast I've been called so many fucking things, It doesn't affect me in the least I've stolen, lied, been crucified but I don't regret a thing I'm an egocentric masochist with a sadist's point of bleak  Everything I touch turns to ashes Falls away, it falls away Everything I touch turns to ashes It slips right through my hands  Love me, hate me Isolate me everyday that I'm alive Live to prove you wrong, it's easy When your heart is filled with ice Chapters in my life define me Chase me into this deprived Straight up, mentally unstable You don't have to like my life  Everything I touch turns to ashes Falls away, it falls away Everything I touch turns to ashes It slips right through my hands\n"
     ]
    },
    {
     "name": "stdout",
     "output_type": "stream",
     "text": [
      "['http://www.azlyrics.com/lyrics/benfoldsfive/brick.html']\n"
     ]
    },
    {
     "name": "stdin",
     "output_type": "stream",
     "text": [
      " \"Brick\"  6 a.m., day after Christmas I throw some clothes on in the dark The smell of cold Car seat is freezing The world is sleeping I am numb  Up the stairs to her apartment She is balled up on the couch Her mom and dad went down to Charlotte They're not home to find us out And we drive Now that I have found someone I'm feeling more alone Than I ever have before  She's a brick and I'm drowning slowly Off the coast and I'm headed nowhere She's a brick and I'm drowning slowly  They call her name at 7:30 I pace around the parking lot Then I walk down to buy her flowers And sell some gifts that I got Can't you see It's not me you're dying for Now she's feeling more alone Than she ever has before  She's a brick and I'm drowning slowly Off the coast and I'm headed nowhere She's a brick and I'm drowning slowly  As weeks went by It showed that she was not fine They told me, \"Son, it's time to tell the truth\" And she broke down, and I broke down 'Cause I was tired of lying  Driving back to her apartment For the moment we're alone But she's alone And I'm alone And now I know it  She's a brick and I'm drowning slowly Off the coast and I'm headed nowhere She's a brick and I'm drowning slowly\n"
     ]
    },
    {
     "name": "stdout",
     "output_type": "stream",
     "text": [
      "['http://www.azlyrics.com/lyrics/jamesmorrison/brokenstrings.html']\n"
     ]
    },
    {
     "name": "stdin",
     "output_type": "stream",
     "text": [
      " \"Broken Strings\" (feat. Nelly Furtado)  Let me hold you For the last time It's the last chance to feel again But you broke me Now I can't feel anything  When I love you It's so untrue I can't even convince myself When I'm speaking It's the voice of someone else  Oh it tears me up I try to hold on, but it hurts too much I try to forgive, but it's not enough to make it all okay  You can't play on broken strings You can't feel anything that your heart don't want to feel I can't tell you something that ain't real  Oh the truth hurts And lies worse How can I give anymore When I love you a little less than before  Oh what are we doing We are turning into dust Playing house in the ruins of us  Running back through the fire When there's nothing left to save It's like chasing the very last train When it's too late (too late)  Oh it tears me up I try to hold on, but it hurts too much I try to forgive, but it's not enough to make it all okay  You can't play on broken strings You can't feel anything that your heart don't want to feel I can't tell you something that ain't real  Well the truth hurts And lies worse How can I give anymore When I love you a little less than before  But we're running through the fire When there's nothing left to save It's like chasing the very last train When we both know it's too late (too late)  You can't play on broken strings You can't feel anything that your heart don't want to feel I can't tell you something that ain't real  Well truth hurts And lies worse How can I give anymore When I love you a little less than before (Well you know that I love you a little less than before)  Let me hold you for the last time It's the last chance to feel again\n"
     ]
    },
    {
     "name": "stdout",
     "output_type": "stream",
     "text": [
      "['http://www.metrolyrics.com/bullet-with-your-name-lyrics-scars-of-life.html']\n"
     ]
    },
    {
     "name": "stdin",
     "output_type": "stream",
     "text": [
      " As were sitting here staring each other down You open up your mouth let your lies spew out What are we doing here its wrong cant you see You wanna leave me here, and forget about (MEYOU LOOK ME, IN MY FACE TELL ME I'M, A DISGRACE YOU SAY THAT YOU'RE THE VICTIM I SAY YOU'RE FULL OF SHIT)All the times you stuck me here And put me on my own I feel the same that's why I've got a bullet with your nameAs were sitting here staring each other down I remember how you used to kick me around Look deep in my eyes come take all my pain I only have just one bullet with your\n"
     ]
    },
    {
     "name": "stdout",
     "output_type": "stream",
     "text": [
      "['http://www.azlyrics.com/lyrics/koolthegang/celebration.html']\n"
     ]
    },
    {
     "name": "stdin",
     "output_type": "stream",
     "text": [
      " \"Celebration\"  Yahoo! Celebration Yahoo! This is your celebration  Celebrate good times, come on! (Let's celebrate) Celebrate good times, come on! (Let's celebrate)  There's a party goin' on right here A celebration to last throughout the years So bring your good times and your laughter too We gonna celebrate your party with you  Come on now, celebration Let's all celebrate and have a good time Celebration We gonna celebrate and have a good time  It's time to come together It's up to you, what's your pleasure? Everyone around the world come on!  Yahoo! It's a celebration Yahoo!  Celebrate good times, come on! (It's a celebration) Celebrate good times, come on! (Let's celebrate)  There's a party goin' on right here A dedication to last throughout the years So bring your good times and your laughter too We gonna celebrate and party with you  Come on now, celebration Let's all celebrate and have a good time, yeah yeah Celebration We gonna celebrate and have a good time  It's time to come together It's up to you, what's your pleasure? Everyone around the world come on!  Yahoo! It's a celebration Yahoo! It's a celebration  Celebrate good times, come on! (Let's celebrate come on now) Celebrate good times, come on! (Let's celebrate)  We're gonna have a good time tonight Let's celebrate, it's all right We're gonna have a good time tonight Let's celebrate, it's all right, baby  We're gonna have a good time tonight (Celebration) Let's celebrate, it's all right We're gonna have a good time tonight (Celebration) Let's celebrate, it's all right  Yahoo! Yahoo!  Celebrate good times, come on! (Let's celebrate) Celebrate good times, come on! (It's a celebration)  Celebrate good times, come on! (Let's celebrate) (Come on and celebrate tonight) Celebrate good times, come on! ('Cause everything's gonna be alright, let's celebrate)  Celebrate good times, come on! (Let's celebrate) Celebrate good times, come on!\n"
     ]
    },
    {
     "name": "stdout",
     "output_type": "stream",
     "text": [
      "['http://www.azlyrics.com/lyrics/enya/chinaroses.html']\n"
     ]
    },
    {
     "name": "stdin",
     "output_type": "stream",
     "text": [
      " \"China Roses\"  Who can tell me if we have heaven, Who can say the way it should be; Moonlight holly, the Sappho Comet, Angel's tears below a tree.  You talk of the break of morning As you view the new aurora, Cloud in crimson, the key of heaven, One love carved in acajou.  One told me of China Roses, One a thousand nights and one night, Earth's last picture, the end of evening Hue of indigo and blue.  A new moon leads me to Woods of dreams and I follow. A new world waits for me; My dream, my way.  I know that if I have heaven There is nothing to desire. Rain and river, a world of wonder May be paradise to me.\n"
     ]
    },
    {
     "name": "stdout",
     "output_type": "stream",
     "text": [
      "['http://www.azlyrics.com/lyrics/alesana/congratulationsihateyou.html']\n"
     ]
    },
    {
     "name": "stdin",
     "output_type": "stream",
     "text": [
      " \"Congratulations, I Hate You\"  No one ever said that life was fair, and I'm not saying that it should be So knowing that you are where you want to be, and I'm not, comes as no surprise But don't expect me to be happy for you And don't smile at me and tell me things will work out for me too I don't want your pity I hate your pity  Taste your vanity and its sweet bitterness As you hide behind your veil of my stolen hopes and lost dreams... ...I watched you steal my thoughts and had to see you smile ...You took them all...  As you build your dreams on my shattered hopes I'll look back on a day once loved and fantasize for tragedy  Swallow your pride  Beg me to make this easier and listen to my hopeless cries  Suffer alone in emptiness I lust to see you swallowed by the mess that you left in your wake Disgust lies deep within your empty gaze  Beg me to make this easier and listen as my hopeless cries Send stares into your meaningless eyes  My envy can't describe how I loathe you for having all the stars Leaving my eyes to marvel the sky knowing it should be mine Yet it's you I see wasting the dream that only I deserve I'll tear off your face to see your smile  As you build your dreams on my shattered hopes I'll look back on a day once loved and fantasize for tragedy  Swallow your pride  Beg me to make this easier and listen as my hopeless cries Send stares into your meaningless eyes\n"
     ]
    },
    {
     "name": "stdout",
     "output_type": "stream",
     "text": [
      "['http://www.azlyrics.com/lyrics/radiohead/creep.html']\n"
     ]
    },
    {
     "name": "stdin",
     "output_type": "stream",
     "text": [
      " \"Creep\"  When you were here before Couldn't look you in the eye You're just like an angel Your skin makes me cry You float like a feather In a beautiful world I wish I was special You're so fucking special  But I'm a creep I'm a weirdo What the hell am I doing here? I don't belong here  I don't care if it hurts I want to have control I want a perfect body I want a perfect soul I want you to notice When I'm not around You're so fucking special I wish I was special  But I'm a creep I'm a weirdo What the hell am I doing here? I don't belong here  Oh, oh  She's running out again She's running out She run run run run Run  Whatever makes you happy Whatever you want You're so fucking special I wish I was special  But I'm a creep I'm a weirdo What the hell am I doing here? I don't belong here I don't belong here\n"
     ]
    },
    {
     "name": "stdout",
     "output_type": "stream",
     "text": [
      "['http://www.azlyrics.com/lyrics/godsmack/cryinglikeabitch.html']\n"
     ]
    },
    {
     "name": "stdin",
     "output_type": "stream",
     "text": [
      " \"Crying Like A Bitch\"  Strut on by like a king Telling everybody they know nothing And long live what you thought you were And time ain't on your side anymore (anymore)  And so you tell me I Can't take my chances But I told you one too many times And you were crying like a bitch  I'm tougher than nails I can promise you that Step out of line And you get bitch-slapped back And you can run Your little mouth all day But the hand of god Just smacked you back into yesterday  And so you tell me I Can't take my chances But I told you one too many times And you were crying like a bitch  And you wonder why No one can stand you And there's no denying You were crying like a bitch You were crying like a bitch  Blinded by your sacred faded past times Only time is your enemy Granted a second chance To prove that your arrogance Is stronger than you'll ever be Is stronger than you can be  Oh stronger than you can be Oh stronger than you can (be)  And so you tell me I Can't take my chances But I told you one too many times And you were crying like a bitch  And you wonder why No one can stand you And there's no denying You were crying like a bitch  You were crying like a bitch You were crying like a bitch You were crying like a bitch  Oh Bitch\n"
     ]
    },
    {
     "name": "stdout",
     "output_type": "stream",
     "text": [
      "['http://www.azlyrics.com/lyrics/donmclean/crying.html']\n"
     ]
    },
    {
     "name": "stdin",
     "output_type": "stream",
     "text": [
      " \"Crying\"  I was alright for a while I could smile for a while But when I saw you last night You held my hand so tight When you stopped to say 'hello' And though you wished to me well you couldn't tell  That I'd been Crying, over you Crying, over you  Then you said so long Left me standing all alone Alone and crying. Crying Crying Crying  It's hard to understand That the touch of your hand Can start me crying  I thought that I, was over you But it's true, so true I love you even more, than I did before But, darling, what can I do  While you don't love me And I'll always be Crying, over you Crying, over you  Yes, now you're gone And from this moment on I'll be crying (crying) Crying (crying) Crying (crying) Crying over you Over you Over you\n"
     ]
    },
    {
     "name": "stdout",
     "output_type": "stream",
     "text": [
      "['http://www.azlyrics.com/lyrics/luthervandross/dancewithmyfather.html']\n"
     ]
    },
    {
     "name": "stdin",
     "output_type": "stream",
     "text": [
      " \"Dance With My Father\"  Back when I was a child Before life removed all the innocence My father would lift me high And dance with my mother and me And then spin me around 'til I fell asleep Then up the stairs he would carry me And I knew for sure I was loved  If I could get another chance Another walk, another dance with him I'd play a song that would never, ever end How I'd love, love, love To dance with my father again  When I and my mother would disagree To get my way I would run from her to him He'd make me laugh just to comfort me Then finally make me do just what my mama said  Later that night when I was asleep He left a dollar under my sheet Never dreamed that he Would be gone from me  If I could steal one final glance One final step, one final dance with him I'd play a song that would never, ever end 'Cause I'd love, love, love To dance with my father again  Sometimes I'd listen outside her door And I'd hear how my mama cried for him I pray for her even more than me I pray for her even more than me  I know I'm praying for much too much But could You send back the only man she loved? I know You don't do it usually But, dear Lord, she's dying To dance with my father again  Every night I fall asleep And this is all I ever dream\n"
     ]
    },
    {
     "name": "stdout",
     "output_type": "stream",
     "text": [
      "['http://www.azlyrics.com/lyrics/cranberries/dyinginthesun.html']\n"
     ]
    },
    {
     "name": "stdin",
     "output_type": "stream",
     "text": [
      " \"Dying In The Sun\"  Do you remember The things we used to say? I feel so nervous When I think of yesterday  How could I let things Get to me so bad? How did I let things get to me?  Like dying in the sun Like dying in the sun Like dying in the sun Like dying [x2]  Will you hold on to me I am feeling frail Will you hold on to me We will never fail  I wanted to be so perfect you see I wanted to be so perfect  Like dying in the sun Like dying in the sun Like dying in the sun Like dying [x2]\n"
     ]
    },
    {
     "name": "stdout",
     "output_type": "stream",
     "text": [
      "['http://www.metrolyrics.com/everybody-dance-now-lyrics-cc-music-factory.html']\n"
     ]
    },
    {
     "name": "stdin",
     "output_type": "stream",
     "text": [
      " Everybody dance now Everybody dance now Give me the music Give me the music Everybody dance now Everybody dance nowYeah, yeah, yeah Everybody dance now Yeah, yeah, yeahEverybody dance now\n"
     ]
    },
    {
     "name": "stdout",
     "output_type": "stream",
     "text": [
      "['http://www.azlyrics.com/lyrics/lloydbanks/fathertime.html']\n"
     ]
    },
    {
     "name": "stdin",
     "output_type": "stream",
     "text": [
      " \"Father Time\"  [Intro] Yeah!... I hear you... And Ima make you shut the fuck up!  [Chorus] Yeah they see me movin They gon need to stop drop Off the face of earth but Ima make it pop hot These niggas are not not Watch me take my spot got Money got power and respect baby I just hope times on my side I've been tryin all my life Every block someones dyin Always high heres our life Come inside  [Verse 1] Energies my ammunition Like AK shells So think about that when you plan on dissin Go straight to hell Bred to be ballin since a baby kickin I had the smell (sniffs) Brand new money ladies sniffin They take a L I take a shit on rappers horse worth Can't die must conquer the world first Like a monster to media On my beautiful girls search High and low I am no thing u tamper wit Made the plan you should cancel it Make examples I trample shit Drop you here I am cancerous Answer this, who can handle this? Scandalous I dismantles these ants and piss on a trucer You think I seen the future How I wam crip recruper Fire hand Wam became a brand new man Big producer ugh Gift from heaven Livin legend and I come from queens Robbin leggin 3-5-7 in my fuckin' jeans Sufferin and fuckin' up schemes Twin Bentleys Matchin beamers on a couple beams Try my sentenc-in  [Chorus]  [Verse 2] Murdered half of yall on my mixtapes Come rap up in my wrath Now I'm laughin look at ya rib cage Ya ass been in a slump Come blastin I lend ya bitch face Success is wut they want Tongue lashin'll get ya shit sprayed Have it how you want Blood bath I'm as sharp as switchblade You'll be smilin for life Love flashin I got the shit made Forget where I'm at now I passed em around the 6th grade Passion for my profession outlast anyone you could name Hood fame got me ridin in wood grain Look lame Stanten, Harlem to Brooklyn They know I'm cooked Cain Took aim rappin would bang I could change But this sport ain't a good game I'm strappin sir Back seat in the passenger Semi-auto massacre Shoppin while I laugh at ya Rappers feed my appetite Metaphors will tackle ya These niggas ain't half as nice Playboy in my afterlife Real nigga wit cash and ice Drop the bread pass the dice Hope I crack twice  [Chorus]\n"
     ]
    },
    {
     "name": "stdout",
     "output_type": "stream",
     "text": [
      "['http://www.metrolyrics.com/fly-me-to-the-moon-lyrics-diana-krall.html']\n"
     ]
    },
    {
     "name": "stdin",
     "output_type": "stream",
     "text": [
      " \n"
     ]
    },
    {
     "name": "stdout",
     "output_type": "stream",
     "text": [
      "['http://www.azlyrics.com/lyrics/2pac/fucktheworld.html']\n"
     ]
    },
    {
     "name": "stdin",
     "output_type": "stream",
     "text": [
      " \"Fuck The World\" (feat. Digital Underground)  [2Pac:] (Haha, what you say?) Who you callin' rapist? Ain't that a bitch You devils are so two faced Wanna see me locked in chains, dropped in shame And gettin' stalked by these crooked cops again Fuckin' with the young Black male, tryin' to stack bail And um, stay away from the packed jails I told the judge I'm in danger And that's why I had that four-five with one in the chamber Fuck the world!  [Shock G (2Pac):] They tryna say that I don't care (I woke up screamin' \"Fuck the world!\") They tryna say that I don't care (Just woke up and screamed \"Fuck the world!\") They tryna say that I don't care (Uh, I woke up and screamed \"Fuck the world!\") They're tryna say that I don't care (Just got up and screamed \"Fuck the world!\")  [2Pac:] When I was comin' up rough that wasn't even what you called it That's why I smoke blunts now and run with alcoholics I'm gettin' flex to me, comin' from my enemies And in their dreams it's hell where they sendin' me Have I lost control or just another soul? A car full of motherfuckers when we roll Sippin' on yak as I sit back Life as a big mack Brothers come up and say, \"You did that?\" Never take your eyes off the prize and even if you gettin' high Don't ever hesitate to try Cause you can fall off or stay ballin', niggas we all in And them my motherfuckers callin' Fuck the world!  [Shock G (2Pac):] They tryna say that I don't care (Woke up screamed \"Fuck the world!\") They tryna say that I don't care (Just woke up and screamed \"Fuck the world!\") They tryna say that I don't care (I got up and screamed \"Fuck the world!\") They're tryna say that I don't care (I woke up and screamed \"Fuck the world!\") They're tryna say that I don't care  [2Pac:] (Man, Fuck the world) Damn, they wanna label me a menace Cause I'm sittin' here sippin' on Guinness Weighin' 165 and these tricks should die For being jealous of a brother when he rise I can see it in your eyes, you wanna see a young playa fallin' They hate to see a nigga ballin' Some of you suckers is rotten, plottin' on what I got And then you wonder why I shot him (Booyeah) Stop givin' game for free, you wanna hang with me Like being a thug is the thang to be But I got love for my homies, the G's and macks And if you're black, you better stay strapped Nigga, fuck the world!  [Shock G (2Pac):] They tryna say that I don't care (I woke up screamed \"Fuck the world!\") They tryna say that I don't care (I woke up and screamed \"Fuck the world!\") They tryna say that I don't care (I got up and screamed \"Fuck the world!\") (Haha, Fuck the world!) (Fuck it) (I hear my niggas screamin' \"Fuck the world\")  [2Pac:] They wanna know if I claim the clique that I'm hangin' with And if I'm down with this bangin' shit Well homie I don't give a fuck if you Blood or Cuz Long as you got love for thugs But don't try to test me out, stall that Homie this is Thug Life nigga and we all strapped I been through hell and back and if I fail, black Then it's back to the corner where we sell crack Some of you niggas is bustas, you runnin' round With these tramp-ass bitches, don't trust her But don't cry, this world ain't prepared for us A straight thug motherfucker who ain't scared to bust Fuck the world!  [Shock G (2Pac):] They tryna say that I don't care (I woke up screamed \"Fuck the world!\") They tryna say that I don't care (I woke up screamin' \"Fuck the world!\") They tryna say that I don't care (They tryna say that I don't care) (I woke up and screamed \"Fuck the world!\") Yeah what's goin on y'all?)  Uh, uh, uh. Fuck the world!  [Shock G singing:] I don't care. I don't care, I don't care!\n"
     ]
    },
    {
     "name": "stdout",
     "output_type": "stream",
     "text": [
      "['http://www.metrolyrics.com/fuck-you-lyrics-headstones.html']\n"
     ]
    },
    {
     "name": "stdin",
     "output_type": "stream",
     "text": [
      " Circling and spinning around my mind You sweetly, swiftly shift Shaking the shakes I'm faking you're shaking And you're quick to steal a kiss So in a frozen motion I silently scream You flinch but you won't back down You dare me, you try to scare me But you know I'll stand my groundFuck You, fuck you, fuck you and only you Fuck you, fuck you, i will get over you\n"
     ]
    },
    {
     "name": "stdout",
     "output_type": "stream",
     "text": [
      "['http://www.lyricsfreak.com/b/beach+boys/fun+fun+fun_20013635.html']\n"
     ]
    },
    {
     "name": "stdin",
     "output_type": "stream",
     "text": [
      " The Beach Boys – Fun, Fun, Fun Lyrics Well she got her daddy's car And she cruised through the hamburger stand now Seems she forgot all about the library Like she told her old man now And with the radio blasting Goes cruising just as fast as she can now  And she'll have fun fun fun Til her daddy takes the t-bird away (Fun fun fun til her daddy takes the t-bird away)  Well the girls can't stand her Cause she walks looks and drives like an ace now (You walk like an ace now you walk like an ace) She makes the indy 500 look like a roman chariot race now (You look like an ace now you look like an ace) A lotta guys try to catch her But she leads them on a wild goose chase now (You drive like an ace now you drive like an ace)  And she'll have fun fun fun Til her daddy takes the t-bird away (Fun fun fun til her daddy takes the t-bird away)  Well you knew all along That your dad was gettin' wise to you now (You shouldn't have lied now you shouldn't have lied) And since he took your set of keys Youve been thinking that your fun is all through now (You shouldn't have lied now you shouldn't have lied)  But you can come along with me Cause we gotta a lot of things to do now (You shouldn't have lied now you shouldn't have lied)  And we'll have fun fun fun now that daddy took the t-bird away (Fun fun fun now that daddy took the t-bird away) And we'll have fun fun fun now that daddy took the t-bird away (Fun fun fun now that daddy took the t-bird away) (Fun fun now that daddy took the t-bird away) (Fun fun now that daddy took the t-bird away) (Fun fun now that daddy took the t-bird away) (Fun fun now that daddy took the t-bird away) (Fun fun now that daddy took the t-bird away) (Fun fun now that daddy took the t-bird away)\n"
     ]
    },
    {
     "name": "stdout",
     "output_type": "stream",
     "text": [
      "['http://www.lyricsfreak.com/c/chic/good+times_20204379.html']\n"
     ]
    },
    {
     "name": "stdin",
     "output_type": "stream",
     "text": [
      " Good times, these are the good times Leave your cares behind, these are the good times Good times, these are the good times Our new state of mind, these are the good times  Happy days are here again The time is right for makin' friends Let's get together, how 'bout a quarter to ten Come tomorrow, let's all do it again  Boys will be boys, better let them have their toys Girls will be girls, cute pony tails and curls Must put an end to this stress and strife I think I want to live the sporting life  Good times, these are the good times Leave your cares behind, these are the good times Good times, these are the good times Our new state of mind, these are the good times  A rumor has it that it's getting late Time marches on, just can't wait The clock keeps turning, why hesitate You silly fool, you can't change your fate Let's cug the rug, a little jive and jitterbug We want the best, we won't settle for less Don't be a drag, participate Clams on the half shell and roller-skates, roller-skates  Good times, these are the good times Leave your cares behind, these are the good times Good times, these are the good times Our new state of mind, these are the good times\n"
     ]
    },
    {
     "name": "stdout",
     "output_type": "stream",
     "text": [
      "['http://www.azlyrics.com/lyrics/pharrellwilliams/happy.html']\n"
     ]
    },
    {
     "name": "stdin",
     "output_type": "stream",
     "text": [
      " Pharrell Williams Lyrics \"Happy\"  It might seem crazy what I'm about to say Sunshine she's here, you can take a break I'm a hot air balloon that could go to space With the air, like I don't care, baby, by the way  Uh  (Because I'm happy) Clap along if you feel like a room without a roof (Because I'm happy) Clap along if you feel like happiness is the truth (Because I'm happy) Clap along if you know what happiness is to you (Because I'm happy) Clap along if you feel like that's what you wanna do  Here come bad news, talking this and that (Yeah!) Well, give me all you got, don't hold it back (Yeah!) Well, I should probably warn you I'll be just fine (Yeah!) No offense to you Don't waste your time, here's why  (Because I'm happy) Clap along if you feel like a room without a roof (Because I'm happy) Clap along if you feel like happiness is the truth (Because I'm happy) Clap along if you know what happiness is to you (Because I'm happy) Clap along if you feel like that's what you wanna do  Bring me down Can't nothing bring me down My level's too high to bring me down Can't nothing bring me down, I said Bring me down Can't nothing bring me down My level's too high to bring me down Can't nothing bring me down, I said  (Because I'm happy) Clap along if you feel like a room without a roof (Because I'm happy) Clap along if you feel like happiness is the truth (Because I'm happy) Clap along if you know what happiness is to you (Because I'm happy) Clap along if you feel like that's what you wanna do (Because I'm happy) Clap along if you feel like a room without a roof (Because I'm happy) Clap along if you feel like happiness is the truth (Because I'm happy) Clap along if you know what happiness is to you (Because I'm happy) Clap along if you feel like that's what you wanna do  Bring me down Can't nothing bring me down My level's too high to bring me down Can't nothing bring me down, I said  (Because I'm happy) Clap along if you feel like a room without a roof (Because I'm happy) Clap along if you feel like happiness is the truth (Because I'm happy) Clap along if you know what happiness is to you (Because I'm happy) Clap along if you feel like that's what you wanna do (Because I'm happy) Clap along if you feel like a room without a roof (Because I'm happy) Clap along if you feel like happiness is the truth (Because I'm happy) Clap along if you know what happiness is to you (Because I'm happy) Clap along if you feel like that's what you wanna do\n"
     ]
    },
    {
     "name": "stdout",
     "output_type": "stream",
     "text": [
      "['http://www.azlyrics.com/lyrics/evanescence/hello.html']\n"
     ]
    },
    {
     "name": "stdin",
     "output_type": "stream",
     "text": [
      " \"Hello\"  Playground school bell rings again Rain clouds come to play again Has no one told you she's not breathing? Hello, I'm your mind giving you someone to talk to Hello  If I smile and don't believe Soon I know I'll wake from this dream Don't try to fix me, I'm not broken Hello, I'm the lie living for you so you can hide Don't cry  Suddenly I know I'm not sleeping Hello, I'm still here All that's left of yesterday\n"
     ]
    },
    {
     "name": "stdout",
     "output_type": "stream",
     "text": [
      "['http://www.azlyrics.com/lyrics/michaelbuble/home.html']\n"
     ]
    },
    {
     "name": "stdin",
     "output_type": "stream",
     "text": [
      " \"Home\"  Another summer day Has come and gone away In Paris and Rome But I wanna go home  May be surrounded by A million people I Still feel all alone Just wanna go home Oh, I miss you, you know  And I've been keeping all the letters that I wrote to you Each one a line or two \"I'm fine baby, how are you?\" Well, I would send them but I know that it's just not enough My words were cold and flat And you deserve more than that  Another aeroplane Another sunny place I'm lucky, I know But I wanna go home I've got to go home  Let me go home I'm just too far from where you are I wanna come home  And I feel just like I'm living someone else's life It's like I just stepped outside When everything was going right And I know just why you could not Come along with me This was not your dream But you always believed in me  Another winter day has come And gone away In either Paris or Rome And I wanna go home Let me go home  And I'm surrounded by A million people I Still feel alone And let me go home Oh, I miss you, you know  Let me go home I've had my run Baby, I'm done I gotta go home Let me go home It'll all be all right I'll be home tonight I'm coming back home\n"
     ]
    },
    {
     "name": "stdout",
     "output_type": "stream",
     "text": [
      "['https://letras.mus.br/shaina-noll/1134378/']\n"
     ]
    },
    {
     "name": "stdin",
     "output_type": "stream",
     "text": [
      " \"How could anyone ever tell you? You were anything less than beautiful… How could anyone ever tell you? You were less than whole…  How could anyone fail to notice? That your loving is a miracle… How deeply you're connected to my soul…\"\n"
     ]
    },
    {
     "name": "stdout",
     "output_type": "stream",
     "text": [
      "['http://www.azlyrics.com/lyrics/jamesbrown/igotyouifeelgood.html']\n"
     ]
    },
    {
     "name": "stdin",
     "output_type": "stream",
     "text": [
      " \"I Got You (I Feel Good)\"  Wo! I feel good, I knew that I would, now I feel good, I knew that I would, now So good, so good, I got you  Wo! I feel nice, like sugar and spice I feel nice, like sugar and spice So nice, so nice, I got you  [Sax, two licks to bridge]  When I hold you in my arms I know that I can do no wrong and when I hold you in my arms My love won't do you no harm  and I feel nice, like sugar and spice I feel nice, like sugar and spice So nice, so nice, I got you  [Sax, two licks to bridge]  When I hold you in my arms I know that I can't do no wrong and when I hold you in my arms My love can't do me no harm  and I feel nice, like sugar and spice I feel nice, like sugar and spice So nice, so nice, well I got you  Wo! I feel good, I knew that I would, now I feel good, I knew that I would So good, so good, 'cause I got you So good, so good, 'cause I got you So good, so good, 'cause I got you  [End lick]  [Short pause, drum cue]  Hey! Oh yeah-a...\n"
     ]
    },
    {
     "name": "stdout",
     "output_type": "stream",
     "text": [
      "['http://www.azlyrics.com/lyrics/donnasummer/ifeellove.html']\n"
     ]
    },
    {
     "name": "stdin",
     "output_type": "stream",
     "text": [
      " \"I Feel Love\"  Ooh It's so good, it's so good It's so good, it's so good It's so good Ooh Heaven knows, heaven knows Heaven knows, heaven knows Heaven knows Ooh I feel love, I feel love I feel love, I feel love I feel love  I feel love, I feel love, I feel love  Ooh Fallin' free, fallin' free Fallin' free, fallin' free Fallin' free Ooh You and me, you and me You and me, you and me You and me Ooh I feel love, I feel love I feel love, I feel love I feel love  I feel love, I feel love, I feel love  Ooh I'll get you, I'll get you I'll get you, I'll get you I'll get you Ooh What you do, what you do What you do, what you do What you do Ooh I feel love, I feel love I feel love, I feel love I feel love  I feel love, I feel love, I feel love\n"
     ]
    },
    {
     "name": "stdout",
     "output_type": "stream",
     "text": [
      "['http://www.azlyrics.com/lyrics/whitneyhouston/iwannadancewithsomebody.html']\n"
     ]
    },
    {
     "name": "stdin",
     "output_type": "stream",
     "text": [
      " \"I Wanna Dance With Somebody\"  Huh, yeah, woo, hey, yeah, huh Ooh yeah, uh huh, yeah  I want to dance  Clock strikes upon the hour And the sun begins to fade Still enough time to figure out How to chase my blues away  I've done alright up 'til now It's the light of day that shows me how And when the night falls The loneliness calls  Oh! I wanna dance with somebody I wanna feel the heat with somebody Yeah! I wanna dance with somebody With somebody who loves me  Oh! I wanna dance with somebody I wanna feel the heat with somebody Yeah! I wanna dance with somebody With somebody who loves me  I've been in love and lost my senses Spinning through the town Sooner or later the fever ends And I wind up feeling down  I need a man who'll take a chance On a love that burns hot enough to last So when the night falls My lonely heart calls  Oh! I wanna dance with somebody I wanna feel the heat with somebody Yeah! I wanna dance with somebody With somebody who loves me  Oh! I wanna dance with somebody I wanna feel the heat Yeah! I wanna dance with somebody With somebody who loves me  Somebody who Somebody who Somebody who loves me  Somebody who Somebody who To hold me in his arms  I need a man who'll take a chance On a love that burns hot enough to last So when the night falls My lonely heart calls  Oh! I wanna dance with somebody I wanna feel the heat with somebody Yeah! I wanna dance with somebody With somebody who loves me  Oh! I wanna dance with somebody I wanna feel the heat with somebody Yeah! I wanna dance with somebody With somebody who loves me  Uh-huh (Dance) Come on, baby, ha, ha (Dance) Woo, yeah (Dance) Now get with this, ha, ha, ha Whoa, oh, oh  Don't you wanna dance (dance) with me baby? Don't you wanna dance (dance) with me boy? Don't you wanna dance (dance) with me baby?  With somebody who loves me  Don't you wanna dance? Say you wanna dance? Don't you wanna dance? (Dance)  Don't you wanna dance? Say you wanna dance? Don't you wanna dance? (Dance)  Don't you wanna dance? Say you wanna dance Uh-huh (Dance) With somebody who loves me  (Dance) (Dance) (Dance) Hey, baby\n"
     ]
    },
    {
     "name": "stdout",
     "output_type": "stream",
     "text": [
      "['http://www.azlyrics.com/lyrics/lisamariepresley/idiot.html']\n"
     ]
    },
    {
     "name": "stdin",
     "output_type": "stream",
     "text": [
      " \"Idiot\"  Please remember me forever Believe in me as someone Who's never gonna wish you well  I'm gonna tell you what I think about you in that unforgivable way I do You're an idiot And I hate your guts I guess I'm about as happy for you as I would be a cockroach in my food I know it's terrible I really hate you though  Do you have your fairytale lie Or are you dancing to the white trash twist Oh please remember me Believe in me as someone Who's never gonna wish you well  I heard the thing that you hate about me almost everyday, but you still wouldn't leave I had to pull the plug Ooh, I hated your guts And I heard the opposite of love isn't hate It's indifference But I can't relate It's not good enough Cause I hate your guts  Did you settle your mediocre mind You had the fine wine you're better off with Bud Light  [Chorus] Oh please remember me Believe in me as someone Who's never gonna wish you well Oh please remember me Believe in me as someone Who wants you to go to hell  You're roaring, you're boring Oh, did you hear me snoring? I'd wanna mutilate myself when I talk to you So here we are, I hope you can tell that I'm no referral You can have 'em, call hell You're gonna drive 'em nuts They're gonna hate your guts  [Chorus (x2)]\n"
     ]
    },
    {
     "name": "stdout",
     "output_type": "stream",
     "text": [
      "['http://www.azlyrics.com/lyrics/gerihalliwell/itsrainingmen.html']\n"
     ]
    },
    {
     "name": "stdin",
     "output_type": "stream",
     "text": [
      " \"It's Raining Men\"  Humidity is rising Barometer's getting low According to our sources The street's the place to go  'Cause tonight for the first time Just about half past ten For the first time in history It's gonna start raining men  It's raining men Hallelujah It's raining men Amen  It's raining men Hallelujah It's raining men Amen  Humidity is rising Barometer's getting low According to our sources The street's the place to go  'Cause tonight for the first time Just about half past ten For the first time in history It's gonna start raining men  It's raining men Hallelujah It's raining men Amen  I'm gonna go out I'm gonna let myself get Absolutely soaking wet  It's raining men Hallelujah It's raining men Every specimen  Tall, blonde, dark and lean Rough and tough and strong and mean  God bless Mother Nature She's a single woman too She took over heaven And she did what she had to do  She taught every angel To rearrange the sky So that each and every woman Could find the perfect guy  It's raining men  Go get yourself wet, girl I know you want to  I feel stormy weather moving in About to begin Hear the thunder Don't you lose your head Rip off the roof and stay in bed (Rip off the roof and stay)  It's raining men Hallelujah It's raining men Amen  It's raining men Hallelujah It's raining men Amen  It's raining men Hallelujah It's raining men Amen  It's raining men Hallelujah It's raining men Amen  It's raining men It's raining men It's raining men\n"
     ]
    },
    {
     "name": "stdout",
     "output_type": "stream",
     "text": [
      "['http://www.azlyrics.com/lyrics/prince/kiss.html']\n"
     ]
    },
    {
     "name": "stdin",
     "output_type": "stream",
     "text": [
      " \"Kiss\" (from \"Parade\" soundtrack)  You don't have to be beautiful To turn me on I just need your body baby From dusk till dawn You don't need experience To turn me out You just leave it all up to me I'm gonna show you what it's all about  You don't have to be rich To be my girl You don't have to be cool To rule my world Ain't no particular sign I'm more compatible with I just want your extra time and your  [Muah muah muah muah muah]  Kiss  You got to not talk dirty, baby If you wanna impress me You can't be too flirty, mama I know how to undress me (Yeah) I want to be your fantasy Maybe you could be mine You just leave it all up to me We could have a good time  You don't have to be rich To be my girl You don't have to be cool To rule my world Ain't no particular sign I'm more compatible with I just want your extra time and your  [Muah muah muah muah]  Kiss  Yes I think I wanna dance Gotta, Gotta Little girl Wendy's parade Gotta, gotta, gotta  Women not girls rule my world I said they rule my world Act your age, mama (Not your shoe size) Not your shoe size Maybe we could do the twirl You don't have to watch Dynasty To have an attitude You just leave it all up to me My love will be your food Yeah  You don't have to be rich To be my girl You don't have to be cool To rule my world Ain't no particular sign I'm more compatible with I just want your extra time and your  Kiss\n"
     ]
    },
    {
     "name": "stdout",
     "output_type": "stream",
     "text": [
      "['http://www.azlyrics.com/lyrics/rockwell/knife.html']\n"
     ]
    },
    {
     "name": "stdin",
     "output_type": "stream",
     "text": [
      " \"Knife\"  You touched my life With the softness in the night My wish was your command Until you ran out of love  I tell myself I'm free Got the chance of livin' just for me No need to hurry home Now that you're gone  [CHORUS:] Knife Cuts like a knife How will I ever heal I'm so deeply wounded Knife Cuts like a knife You cut away the heart of my life  When I pretend Wear a smile to fool my dearest friends I wonder if they know It's just a show  I'm on a stage Day and night I go through my charades But how can I disguise What's in my eyes  [CHORUS]  Oh, oh Oh, oh, oh, oh Oh, oh, oh, oh Oh'  I've tried and tried Blocking out the pain I feel inside The pain of wanting you Wanting you  Knife Cuts like a knife How will I ever heal I'm so deeply wounded [2X]  You cut away the heart Of my life\n"
     ]
    },
    {
     "name": "stdout",
     "output_type": "stream",
     "text": [
      "['http://www.azlyrics.com/lyrics/davidbowie/letsdance.html']\n"
     ]
    },
    {
     "name": "stdin",
     "output_type": "stream",
     "text": [
      " \"Let's Dance\"  Let's dance Put on your red shoes And dance the blues  Let's dance To the song they're playin' on the radio  Let's sway While color lights up your face Let's sway Sway through the crowd to an empty space  If you say run, I'll run with you If you say hide, we'll hide Because my love for you Would break my heart in two If you should fall into my arms And tremble like a flower  Let's dance Let's dance  Let's dance for fear your grace should fall Let's dance for fear tonight is all  Let's sway You could look into my eyes Let's sway under the moonlight, This serious moonlight  And if you say run, I'll run with you And if you say hide, we'll hide Because my love for you Would break my heart in two If you should fall Into my arms And tremble like a flower  Let's dance Let's dance  Let's dance Put on your red shoes And dance the blues  Let's dance to the song they're playin' on the radio  Let's sway under the moonlight, This serious moonlight  [Repeat until the end:] Let's dance Let's sway\n"
     ]
    },
    {
     "name": "stdout",
     "output_type": "stream",
     "text": [
      "['http://www.metrolyrics.com/love-is-where-you-are-lyrics-diana-krall.html']\n"
     ]
    },
    {
     "name": "stdin",
     "output_type": "stream",
     "text": [
      " I used to walk between the shadows Lost in a world that moved too fast I was afraid I'd always be alone Then I saw your face at lastI found my way even in the dark Though at times it seemed too far I knew if I'd listen to my heart I'd find that love is where you areI close my eyes and see tomorrow My dreams begin and end with you I hear you say you'll be there Always for me Then I must believe it's true\n"
     ]
    },
    {
     "name": "stdout",
     "output_type": "stream",
     "text": [
      "['http://www.azlyrics.com/lyrics/arethafranklin/wonderful.html']\n"
     ]
    },
    {
     "name": "stdin",
     "output_type": "stream",
     "text": [
      " \"Wonderful\"  Feels like I've seen you before Maybe in a past life, you were mine and I was yours 'Cause the vibe we share feels so comfortable Is it possible someone could make me lose control  Look what you've done to me (Mmm) Finding it hard to breathe 'Cause I just can't believe You're feeling me like I'm feeling you  I had to pinch myself (Oh) 'Cause nobody else has (Yeah, yeah) Given me such a chill And made me feel the way that you do  I just gotta let you know In case you didn't know I-I-I-I-I-I think you're wonderful There's this thing you do to me That thing that makes me weak Baby, I-I-I-I think you're wonderful  Questioning what this is If it's too good to be true I don't wanna fool myself 'Cause I'm fallin' hard for you  Givin' me that old school love Sayin' I'm the only one Showin' me in so many ways That you're crazy for me  Look what you've done to me (Oh, baby) Finding it hard to breathe 'Cause I just can't believe You're feeling me like I'm feeling you  I had to pinch myself (Ow) 'Cause nobody else has Given me such a chill And make me feel the way that you do, baby  I just gotta let you know In case you didn't know I-I-I-I-I-I think you're wonderful There's this thing you do to me That thing that makes me weak Baby, I-I-I-I think you're wonderful  I'd go anywhere Far away from here It would be okay As long as you are there  You take away my pain And I'll never be the same You've got my heart, baby And I just want to say, baby  I just gotta let you know (Sweet thing, yeah, yeah) In case you didn't know (Woo) I-I-I (I-I) I-I-I (I-I-I think you're wonderful, baby) think you're wonderful There's this thing you do to me (This thing you do to me, baby) That thing that makes me weak Baby, I-I-I-I think you're wonderful (I-I think you're wonderful, yeah)  I just gotta let you know (Ooh, baby) In case you didn't know (In case you didn't know) I-I-I-I-I-I think you're wonderful There's this thing you do to me That thing that makes me weak Baby, I-I-I-I think you're wonderful\n"
     ]
    },
    {
     "name": "stdout",
     "output_type": "stream",
     "text": [
      "['http://littleearthgnomesofsabah.blogspot.pt/2013/01/a-song-for-water-amata-water-song.html']\n"
     ]
    },
    {
     "name": "stdin",
     "output_type": "stream",
     "text": [
      "  Can you see, can you see the light glowing hope, sprinkling love  there, from the sky?    The warm gleam that's  soothing your heart  sees itself in this mirror of mine    Imagine your world without me  No golden days  No precious dreams to dream    Will you, please, take care of me?    Long ago and far from here  there was peace, there was love  for all eternity    What's the future that awaits us all  since you won't look to the sky?    Can you smell the sweetness of flower buds?  Can you hear the singing trees and birds?    I'm the reason for  them to please the world,  for every soul, for every life  to unfurl    I'm the source of all that's good    Save me so I can save you  Look into the sun, feel the warmth,  smell the flourishing dreams  See yourself in me  Hear the calling of the water song... water song...  Save yourself and save us all\n"
     ]
    },
    {
     "name": "stdout",
     "output_type": "stream",
     "text": [
      "['http://www.azlyrics.com/lyrics/gleecast/wakemeupbeforeyougogo.html']\n"
     ]
    },
    {
     "name": "stdin",
     "output_type": "stream",
     "text": [
      " \"Wake Me Up Before You Go-Go\"  [Sam:] Jitterbug Jitterbug Jitterbug Jitterbug  [Blaine (with Sam and New Directions):] You put the boom-boom into my heart ([Sam and New Directions:] Do, do!) You send my soul sky high when your lovin' starts A jitterbug into my brain ([Sam and New Directions:] Yeah, yeah!) It goes a (bang-bang-bang) 'til my feet do the same  [(Blaine and New Directions) Sam:] (Ah, ah) But something's bugging me (Ah, ah) Something ain't right (Ah, ah) My best friend told me (Ah, ah) what you did last night (Ah, ah) You left me sleeping (Ah, ah) in my bed (Ah, ah) I was dreaming, but  [Sam with Blaine and New Directions:] I should have been with you instead  [Blaine and Sam with New Directions:] Wake me up before you go-go Don't leave me hanging on like a yo-yo Wake me up before you go-go I don't want to miss it when you hit that high Wake me up before you go-go 'Cause I'm not plannin' on going solo Wake me up before you go-go whoa  [Blaine and Sam:] Take me dancing tonight I wanna hit that high yeah, yeah  [Blaine (with Sam and New Directions):] You take the grey skies out of my way ([Sam and New Directions:] Do, do) You make the sun shine brighter than Doris Day You turned a bright spark into a flame ([Sam and New Directions:] Yeah, yeah) My (beats per minute) never been the same  [(Blaine and New Directions) Sam:] (Ah, ah) 'Cause you're my lady, (Ah, ah) I'm your fool (Ah, ah) It makes me crazy (Ah, ah) when you act so cruel (Ah, ah) Come on, baby, (Ah, ah) let's not fight (Ah, ah) We'll go dancing,  [Sam with Blaine and New Directions:] Everything will be all right  [Blaine and Sam with New Directions:] Wake me up before you go-go Don't leave me hanging on like a yo-yo Wake me up before you go-go I don't want to miss it when you hit that high Wake me up before you go-go Cause I'm not planning on going solo Wake me up before you go-go whoa  [Blaine and Sam:] Take me dancing tonight  [Sam with New Directions:] I wanna hit that high ([Blaine:] yeah, yeah)  [Sam and Blaine with New Directions:] Yeah, yeah, yeah baby! ([Blaine:] Who!)  [Sam:] Jitterbug  [Blaine and Sam:] Cuddle up, baby, move in tight We'll go dancing tomorrow night It's cold out there, but it's warm in bed They can dance, we'll stay home instead ([Blaine:] Yeah-yeah)  [Sam:] Jitterbug ([Blaine and Sam:] Oooh)  [Blaine and Sam with New Directions:] Wake me up before you go-go Don't leave me hanging on like a yo-yo Wake me up before you go-go I don't want to miss it when you hit that high Wake me up before you go-go 'Cause I'm not planning on going solo Wake me up before you go-go whoa Take me dancing tonight  [Sam with New Directions:] Wake me up before you go-go, ([Blaine:] Don't you dare) Don't leave me hanging on like a yo-yo ([Blaine:] To leave me hanging on like a yo-yo) Wake me up before you go-go I don't want to miss it when you hit that high ([Blaine:] take me dancing, I wanna go, go, go) Wake me up before you go-go ([Blaine:] Oh!) Cause I'm not planning on going solo ([Blaine:] I wanna go, go, go) Wake me up before you go-go ([Blaine:] go,go, go,go,go) Take me dancing tonight  [New Directions:] Wake me up before you go-go ([Blaine:] yeah) Cause I'm not planning on going solo ([Sam:] yeah-yeah) Wake me up before you go-go ([Blaine:] yeah) Take me dancing tonight ([Blaine:] Ooh)  [Sam and Blaine with New Directions:] Wake me up!\n"
     ]
    },
    {
     "name": "stdout",
     "output_type": "stream",
     "text": [
      "['http://www.azlyrics.com/lyrics/samcooke/twistinthenightaway.html']\n"
     ]
    },
    {
     "name": "stdin",
     "output_type": "stream",
     "text": [
      " \"Twistin' The Night Away\"  Let me tell you 'bout a place Somewhere up-a New York way Where the people are so gay Twistin' the night away Here they have a lot of fun Puttin' trouble on the run Man, you find the old and young Twistin' the night away  They're twistin', twistin' Everybody's feelin' great They're twistin', twistin' They're twistin' the night away  Here's a man in evening clothes How he got here, I don't know, but Man, you oughta see him go Twistin' the night away He's dancin' with a chick in slacks She's movin' up and back Oh, man, there ain't nothin' like Twistin' the night away  They're twistin', twistin' Everybody's feelin' great They're twistin', twistin' They're twistin' the night  Let's twist a while Lean up Lean back Lean up Lean back Watusi Now fly Now twist They're twistin' the night away  Here's a fella in blue jeans Dancin' with an older queen Who's dolled up in her diamond rings and Twistin' the night away Man, you oughta see her go Twistin' to the rock and roll Here you find the young and old Twistin' the night away  They're twistin', twistin', man Everybody's feelin' great They're twistin', twistin' They're twistin' the night  One more time Lean up Lean back Lean up Lean back Watusi Now fly Now twist\n"
     ]
    },
    {
     "name": "stdout",
     "output_type": "stream",
     "text": [
      "['http://www.azlyrics.com/lyrics/enigma/thevoiceofenigma.html']\n"
     ]
    },
    {
     "name": "stdin",
     "output_type": "stream",
     "text": [
      " \"The Voice Of Enigma\"  Good evening This is the voice of Enigma  In the next hour we will take you with us into another world, into the world of music, spirit and meditation  Turn off the light, take a deep breath and relax  start to move slowly, very slowly Let the rhythm be your guiding light\n"
     ]
    },
    {
     "name": "stdout",
     "output_type": "stream",
     "text": [
      "['http://www.azlyrics.com/lyrics/silverchair/suicidaldream.html']\n"
     ]
    },
    {
     "name": "stdin",
     "output_type": "stream",
     "text": [
      " \"Suicidal Dream\"  I dream about how it's going to end, Approaching me quickly. Leaving a life of fear, I only want my mind to be clear.  People making fun of me, For no reason but jealousy. I fantasise about my death, I'll kill myself from holding my breath,  My suicidal dream, Voices telling me what to do. My suicidal dream, I'm sure you will get your's too.  Help me, comfort me, Stop me from feeling what I'm feeling now. The rope is here, now I'll find a use. I'll kill myself, I'll put my head in a noose.  [Chorus]  Dreamin' about my death, dream...  Suicidal, suicidal, Suicidal dream\n"
     ]
    },
    {
     "name": "stdout",
     "output_type": "stream",
     "text": [
      "['http://www.azlyrics.com/lyrics/greatbigworld/saysomething341962.html']\n"
     ]
    },
    {
     "name": "stdin",
     "output_type": "stream",
     "text": [
      " \"Say Something\" (with Christina Aguilera)  Say something, I'm giving up on you I'll be the one, if you want me to Anywhere I would have followed you Say something, I'm giving up on you  And I am feeling so small It was over my head I know nothing at all  And I will stumble and fall I'm still learning to love Just starting to crawl  Say something, I'm giving up on you I'm sorry that I couldn't get to you Anywhere I would have followed you Say something, I'm giving up on you  And I will swallow my pride You're the one that I love And I'm saying goodbye  Say something, I'm giving up on you And I'm sorry that I couldn't get to you And anywhere I would have followed you (Oh-oh-oh-oh) Say something, I'm giving up on you  Say something, I'm giving up on you Say something...\n"
     ]
    },
    {
     "name": "stdout",
     "output_type": "stream",
     "text": [
      "['http://www.metrolyrics.com/rockstar-lyrics-nickelback.html']\n"
     ]
    },
    {
     "name": "stdin",
     "output_type": "stream",
     "text": [
      " I'm through with standing in line To clubs we'll never get in It's like the bottom of the ninth And I'm never gonna win This life hasn't turned out Quite the way I want it to be(Tell me what you want)I want a brand new house On an episode of cribs And a bathroom I can play baseball in And a king size tub big enough For ten plus me (So what do you need)I'll need a credit card that's got no limit And a big black jet with a bedroom in it Gonna join the mile high club At thirty-seven thousand feet(been there, done that)I want a new tour bus full of old guitars My own star on hollywood boulevard Somewhere between Cher and James Dean is fine for me(So how you gonna do it)\n"
     ]
    },
    {
     "name": "stdout",
     "output_type": "stream",
     "text": [
      "['http://www.azlyrics.com/lyrics/eminem/renegade.html']\n"
     ]
    },
    {
     "name": "stdin",
     "output_type": "stream",
     "text": [
      " \n"
     ]
    },
    {
     "name": "stdout",
     "output_type": "stream",
     "text": [
      "['http://www.lyricsfreak.com/s/system+of+a+down/prison+song_20134833.html']\n"
     ]
    },
    {
     "name": "stdin",
     "output_type": "stream",
     "text": [
      " System Of A Down – Prison Song Lyrics \"They're trying to build a prison, They're trying to build a prison,  Following the rights movements You clamped down with your iron fists, Drugs became conveniently Available for all the kids, Following the rights movements You clamped down with your iron fists, Drugs became conveniently Available for all the kids,  I buy my crack, my smack, my bitch, Right here in Hollywood,  Nearly 2 million Americans are incarcerated In the prison system, prison system Prison system of the you. S.  They're trying to build a prison  They're trying to build a prison, They're trying to build a prison, They're trying to build a prison, (for you and me to live in) Another prison system, Another prison system, Another prison system. (for you and me)  Minor drug offenders fill your prisons You don't even flinch All our taxes paying for your wars Against the new non-rich, Minor drug offenders fill your prisons You don't even flinch All our taxes paying for your wars Against the new non-rich,  I buy my crack, my smack, my bitch, Right here in Hollywood,  The percentage of Americans in the prison system, prison system Prison system, has doubled since 1985  They're trying to build a prison  They're trying to build a prison, They're trying to build a prison, They're trying to build a prison, Another prison system, Another prison system, Another prison system. For you and I, for you and I, for you and I.  They're trying to build a prison, They're trying to build a prison, They're trying to build a prison, For you and me, Oh baby, you and me.  All research and successful drug policy shows That treatment should be increased, And law enforcement decreased, While abolishing mandatory minimum sentences, All research and successful drug policy shows That treatment should be increased, And law enforcement decreased, While abolishing mandatory minimum sentences.  Utilizing drugs to pay for secret wars around the world, Drugs are now your global policy, Now you police the globe,  I buy my crack, my smack, my bitch, Right here in Hollywood,  Drug money is used to rig elections, And train brutal corporate sponsored Dictators around the world.  They're trying to build a prison  They're trying to build a prison, They're trying to build a prison, They're trying to build a prison, (for you and me to live in) Another prison system, Another prison system, Another prison system. (for you and me) For you and I, for you and I, for you and I. They're trying to build a prison, They're trying to build a prison, They're trying to build a prison, For you and me, Oh baby, you and me.\n"
     ]
    },
    {
     "name": "stdout",
     "output_type": "stream",
     "text": [
      "['http://www.azlyrics.com/lyrics/greenday/platypusihateyou.html']\n"
     ]
    },
    {
     "name": "stdin",
     "output_type": "stream",
     "text": [
      " \"Platypus (I Hate You)\"  Your rise and fall Back up against the wall What goes around is coming back and haunting you It's time to quit Cause you ain't worth the shit Under my shoes or the piss on the ground  No one loves you and you know it Don't pretend that you enjoy it or you don't care Cause now I wouldn't lie or tell you all the things you want to hear Cause I hate you Cause I hate you Cause I hate you Cause I hate you  I heard you're sick Sucked on that cancer stick A throbbing tumor and a radiation high Shit out of luck And now your time is up It brings me pleasure just to know you're going to die  No one loves you and you know it Don't pretend that you enjoy it or you don't care Cause now I wouldn't lie or tell you all the things you want to hear Cause I hate you Cause I hate you Cause I hate you Cause I hate you  Dickhead, Fuckface, cock smoking, mother fucking, asshole, dirty twat, waste of semen, I hope you die, HEY  Red eye, code blue I'd like to strangle you And watch your eyes bulge right out of your skull When you go down Head first into the ground I'll stand above you just to piss on your grave  No one loves you and you know it Don't pretend that you enjoy it or you don't care Cause now I wouldn't lie or tell you all the things you want to hear Cause I hate you Cause I hate you Cause I hate you Cause I hate you\n"
     ]
    },
    {
     "name": "stdout",
     "output_type": "stream",
     "text": [
      "['http://www.azlyrics.com/lyrics/catstevens/peacetrain.html']\n"
     ]
    },
    {
     "name": "stdin",
     "output_type": "stream",
     "text": [
      " \"Peace Train\"  Now I've been happy lately, thinking about the good things to come And I believe it could be, something good has begun  Oh I've been smiling lately, dreaming about the world as one And I believe it could be, some day it's going to come  Cause out on the edge of darkness, there rides a peace train Oh peace train take this country, come take me home again  Now I've been smiling lately, thinking about the good things to come And I believe it could be, something good has begun  Oh peace train sounding louder Glide on the peace train Come on now peace train Yes, peace train holy roller  Everyone jump upon the peace train Come on now peace train  Get your bags together, go bring your good friends too Cause it's getting nearer, it soon will be with you  Now come and join the living, it's not so far from you And it's getting nearer, soon it will all be true  Now I've been crying lately, thinking about the world as it is Why must we go on hating, why can't we live in bliss  Cause out on the edge of darkness, there rides a peace train Oh peace train take this country, come take me home again\n"
     ]
    },
    {
     "name": "stdout",
     "output_type": "stream",
     "text": [
      "['http://www.sixmaddens.org/?p=2835']\n"
     ]
    },
    {
     "name": "stdin",
     "output_type": "stream",
     "text": [
      " There is a land, an ancient land.  It bears a vast and rugged face.  Its spirits deep, haunting and free.  It calls to you, it calls to me.  Come find your soul, within my depths.  Come make of me, your homeland true.  Chorus  This is our land, we are its people  A nation that’s free to realise its dream.  A dream that’s for all who dwell in this land.  To live as one people, one people one land.  Verse 2  There is a people, an ancient people.  Their spirits rest deep in this land.  Their dreamtime myth, story and faith,  Make this land a sacred place.  They seek of all a true embrace,  That reconciles all that we are.  Chorus  Bridge  And from distant shores many have come  To find their home in this great southern land  Where the spirit yearns and seeks to unite us all\n"
     ]
    },
    {
     "name": "stdout",
     "output_type": "stream",
     "text": [
      "['http://www.azlyrics.com/lyrics/eminem/loseyourself.html']\n"
     ]
    },
    {
     "name": "stdin",
     "output_type": "stream",
     "text": [
      " \"Lose Yourself\"  Look, if you had one shot, or one opportunity To seize everything you ever wanted, in one moment Would you capture it, or just let it slip?  Yo! His palms are sweaty, knees weak, arms are heavy There's vomit on his sweater already: Mom's spaghetti He's nervous, but on the surface he looks calm and ready To drop bombs, but he keeps on forgetting What he wrote down, the whole crowd goes so loud He opens his mouth, but the words won't come out He's choking, how? Everybody's joking now The clock's run out, time's up, over, blaow! Snap back to reality, ope there goes gravity, ope There goes Rabbit, he choked, he's so mad but he won't Give up that easy, no, he won't have it, he knows His whole back's to these ropes, it don't matter, he's dope He knows that but he's broke, he's so stagnant, he knows When he goes back to this mobile home, that's when it's Back to the lab again yo, this whole rhapsody Better go capture this moment and hope it don't pass him, and  You better lose yourself in the music The moment, you own it, you better never let it go You only get one shot, do not miss your chance to blow This opportunity comes once in a lifetime, yo You better lose yourself in the music The moment, you own it, you better never let it go You only get one shot, do not miss your chance to blow This opportunity comes once in a lifetime, yo You better…  His soul's escaping through this hole that is gaping This world is mine for the taking, make me king As we move toward a New World Order A normal life is boring; but superstardom's Close to post-mortem, it only grows harder Homie grows hotter, he blows, it's all over These hoes is all on him, coast-to-coast shows He's known as the Globetrotter, lonely roads God only knows, he's grown farther from home, he's no father He goes home and barely knows his own daughter But hold your nose, 'cause here goes the cold water These hoes don't want him no mo', he's cold product They moved on to the next schmoe who flows He nose-dove and sold nada, and so the soap opera Is told, it unfolds, I suppose it's old, partner But the beat goes on: da da dum da dum da da da da  You better lose yourself in the music The moment, you own it, you better never let it go You only get one shot, do not miss your chance to blow This opportunity comes once in a lifetime, yo You better lose yourself in the music The moment, you own it, you better never let it go You only get one shot, do not miss your chance to blow This opportunity comes once in a lifetime, yo You better…  No more games, I'ma change what you call rage Tear this motherfuckin' roof off like two dogs caged I was playin' in the beginning, the mood all changed I've been chewed up and spit out and booed off stage But I kept rhymin' and stepped right in the next cypher Best believe somebody's payin' the Pied Piper All the pain inside amplified by the Fact that I can't get by with my 9-to-5 And I can't provide the right type of life for my family 'Cause man, these goddamn food stamps don't buy diapers And there's no movie, there's no Mekhi Phifer, this is my life And these times are so hard, and it's gettin' even harder Tryna feed and water my seed, plus teeter-totter Caught up between bein' a father and a prima donna Baby mama drama, screamin' on her, too much for me to wanna Stay in one spot, another day of monotony's Gotten me to the point I'm like a snail, I've got To formulate a plot or end up in jail or shot Success is my only motherfuckin' option, failure's not Mom, I love you, but this trailer's got To go; I cannot grow old in Salem's Lot So here I go, it's my shot: feet, fail me not This may be the only opportunity that I got  You better lose yourself in the music The moment, you own it, you better never let it go (go) You only get one shot, do not miss your chance to blow This opportunity comes once in a lifetime, yo You better lose yourself in the music The moment, you own it, you better never let it go (go) You only get one shot, do not miss your chance to blow This opportunity comes once in a lifetime, yo You better…  You can do anything you set your mind to, man\n"
     ]
    },
    {
     "name": "stdout",
     "output_type": "stream",
     "text": [
      "['http://www.azlyrics.com/lyrics/rageagainstthemachine/killinginthename.html']\n"
     ]
    },
    {
     "name": "stdin",
     "output_type": "stream",
     "text": [
      " \"Killing In The Name\"  Killing in the name of Some of those that work forces, are the same that burn crosses Some of those that work forces, are the same that burn crosses Some of those that work forces, are the same that burn crosses Some of those that work forces, are the same that burn crosses Huh!  Killing in the name of Killing in the name of  And now you do what they told ya And now you do what they told ya And now you do what they told ya And now you do what they told ya And now you do what they told ya And now you do what they told ya And now you do what they told ya And now you do what they told ya And now you do what they told ya And now you do what they told ya And now you do what they told ya But now you do what they told ya Well now you do what they told ya  Those who died are justified, for wearing the badge, they're the chosen whites You justify those that died by wearing the badge, they're the chosen whites Those who died are justified, for wearing the badge, they're the chosen whites You justify those that died by wearing the badge, they're the chosen whites  Some of those that work forces, are the same that burn crosses Some of those that work forces, are the same that burn crosses Some of those that work forces, are the same that burn crosses Some of those that work forces, are the same that burn crosses Uggh!  Killing in the name of Killing in the name of  And now you do what they told ya And now you do what they told ya And now you do what they told ya And now you do what they told ya And now you do what they told ya, now you're under control And now you do what they told ya, now you're under control And now you do what they told ya, now you're under control And now you do what they told ya, now you're under control And now you do what they told ya, now you're under control And now you do what they told ya, now you're under control And now you do what they told ya, now you're under control And now you do what they told ya!  Those who died are justified, for wearing the badge, they're the chosen whites You justify those that died by wearing the badge, they're the chosen whites Those who died are justified, for wearing the badge, they're the chosen whites You justify those that died by wearing the badge, they're the chosen whites Come on!  Yeah! Come on!  Fuck you, I won't do what you tell me Fuck you, I won't do what you tell me Fuck you, I won't do what you tell me Fuck you, I won't do what you tell me Fuck you, I won't do what you tell me Fuck you, I won't do what you tell me Fuck you, I won't do what you tell me Fuck you, I won't do what you tell me Fuck you, I won't do what you tell me! Fuck you, I won't do what you tell me! Fuck you, I won't do what you tell me! Fuck you, I won't do what you tell me! Fuck you, I won't do what you tell me! Fuck you, I won't do what you tell me! Fuck you, I won't do what you tell me! Fuck you, I won't do what you tell me! Motherfucker! Uggh!\n"
     ]
    },
    {
     "name": "stdout",
     "output_type": "stream",
     "text": [
      "['http://songlibrary.net/I-Am-The-Earth.html']\n"
     ]
    },
    {
     "name": "stdin",
     "output_type": "stream",
     "text": [
      " I Am The Earth (lyrics) I am the river flowing I am the desert dry I am the four winds blowing I am the sunset sky  I am the forest breathing I am the ocean wide I am the storm clouds gathering I am the mountain high  I am the Earth I am the Earth I am the Earth I am the Earth  We are the children growing You are the place we live We are the seed you’re sowing We are the life you give  We are the future rising We will be your voice We will watch and learn from you We will make the choice  CHORUS I am the Earth You're in our hands I am the Earth We’re in your care I am the Earth Together we stand I am the Earth This moment in time we share  I am the river flowing We are the children growing I am the desert dry You are the place we live\n"
     ]
    },
    {
     "name": "stdout",
     "output_type": "stream",
     "text": [
      "['http://www.metrolyrics.com/hes-the-greatest-dancer-lyrics-sister-sledge.html']\n"
     ]
    },
    {
     "name": "stdin",
     "output_type": "stream",
     "text": [
      " Oh, what, wow He's the greatest dancer Oh, what, wow That I've ever seen Oh, what, wow He's the greatest dancer Oh, what, wowOne night in a disco on the outskirts of Frisco I was cruisin' with my favorite gang The place was so borin' filled with out-of-towners tourin' I knew that it wasn't my thingI really wasn't carin', but I felt my eyes starin' At a guy who stuck out in the crowd He had the kind of body that would shame Adonis And a face that would make any man proud Oh, what, wow He's the greatest dancer Oh, what, wow That I've ever seen (Ooh) Oh, what, wow He's the greatest dancer Oh, what, wowThe champion of dance, his moves would put you in a trance And he never leaves the disco alone Arrogance but not conceit, as a man he's complete My creme d' la creme, please take me homeHe wears the finest clothes, the best designers heaven knows Ooh, from his head down to his toes Halston, Gucci, Fiorucci He looks like a still, that man is dressed to kill Oh, what, wow He's the greatest dancer Oh, what, wow That I've ever seen (I've ever seen) Oh, what, wow He's the greatest dancer Oh, what, wow (Ooh, ooh, ooh, wow)Oh, what, wow (Hey) He's the greatest dancer Oh, what, wow That I've ever seen (I love your moves) Oh, what, wow He's the greatest dancer Oh, what, wow (That I've ever seen)Oh, what, wow He's the greatest dancer Oh, what, wow That I've ever seen (I've ever seen) Oh, what, wow He's the greatest dancer Oh, what, wow (Ooh, ooh, ooh, wow)Oh, what, wow (Hey) He's the greatest dancer Oh, what, wow That I've ever seen (I love your moves) Oh, what, wow He's the greatest dancer Oh, what, wow (That I've ever seen) Oh... what... wow! That I've ever seen... I love your moves...\n"
     ]
    },
    {
     "name": "stdout",
     "output_type": "stream",
     "text": [
      "['http://www.lyricsfreak.com/b/billie+holiday/gloomy+sunday_20017999.html']\n"
     ]
    },
    {
     "name": "stdin",
     "output_type": "stream",
     "text": [
      " Billie Holiday – Gloomy Sunday Lyrics Sunday is gloomy, My hours are slumberless Dearest the shadows I live with are numberless Little white flowers Will never awaken you Not where the black coach of Sorrow has taken you Angels have no thought Of ever returning you Would they be angry If I thought of joining you?  Gloomy Sunday  Gloomy is Sunday, With shadows I spend it all My heart and I Have decided to end it all Soon there'll be candles And prayers that are said I know Let them not weep Let them know that I'm glad to go Death is no dream For in death I'm caressin' you With the last breath of my soul I'll be blessin' you  Gloomy Sunday  Dreaming, I was only dreaming I wake and I find you asleep In the deep of my heart, dear Darling I hope That my dream never haunted you My heart is tellin' you How much I wanted you Gloomy Sunday\n"
     ]
    },
    {
     "name": "stdout",
     "output_type": "stream",
     "text": [
      "['http://www.care2.com/news/member/779995973/2598225']\n"
     ]
    },
    {
     "name": "stdin",
     "output_type": "stream",
     "text": [
      " \n"
     ]
    },
    {
     "name": "stdout",
     "output_type": "stream",
     "text": [
      "['http://www.azlyrics.com/lyrics/demilovato/fortheloveofadaughter.html']\n"
     ]
    },
    {
     "name": "stdin",
     "output_type": "stream",
     "text": [
      " \"For The Love Of A Daughter\"  Four years old with my back to the door All I could hear was the family war Your selfish hands always expecting more Am I your child or just a charity ward?  You have a hollowed out heart But it's heavy in your chest I try so hard to fight it but it's hopeless Hopeless, you're hopeless  Oh, father, please, father I'd love to leave you alone But I can't let you go Oh, father, please, father Put the bottle down For the love of a daughter Oh  It's been five years since we've spoken last And you can't take back What we never had Oh, I can be manipulated Only so many times, Before even \"I love you\" Starts to sound like a lie  You have a hollowed out heart But it's heavy in your chest I try so hard to fight it but it's hopeless Hopeless, you're hopeless  Oh, father, please, father I'd love to leave you alone But I can't let you go Oh, father, please, father Put the bottle down For the love of a daughter  Don't you remember I'm your baby girl? How could you push me out of your world, Lied to your flesh and your blood, Put your hands on the ones that you swore you loved? Don't you remember I'm your baby girl? How could you throw me right out of your world? So young when the pain had begun Now forever afraid of being loved  Oh, father, please, father I'd love to leave you alone But I can't let you go Oh, father, please, father  Oh, father, please, father Put the bottle down For the love of a daughter For the love of a daughter\n"
     ]
    },
    {
     "name": "stdout",
     "output_type": "stream",
     "text": [
      "['http://www.songsforteaching.com/skipwest/afamilyisafamily.htm']\n"
     ]
    },
    {
     "name": "stdin",
     "output_type": "stream",
     "text": [
      " Some, have a daughter. Some, have a son. Some, have many cousins. Some, have none.  Some are very big and Some are very small. But it really doesn't matter at all.  Because a family is a family When there's love in the air. Maybe a dozen Or maybe a pair. A family is a family Whether twelve or two. We could be a family. Just me and you.  Some, have a father. Some, have a mom. Some, have aunts and uncles. Some, have none.  Some are very big and Some are very small. But it really doesn't matter at all.  Chorus  Some, have a sister. Some, have a brother. Some, have Grandfather. Some, have Grandmother.  Some are very big and Some are very small. But it really doesn't matter at all.  Chorus  Some, have a puppy. Some, have a cat. Some, have a llama. Now what, do you think about that?  Some are very big and Some are very small. But it really doesn't matter at all.  Chorus\n"
     ]
    },
    {
     "name": "stdout",
     "output_type": "stream",
     "text": [
      "['http://www.azlyrics.com/lyrics/survivor/eyeofthetiger.html']\n"
     ]
    },
    {
     "name": "stdin",
     "output_type": "stream",
     "text": [
      " \"Eye Of The Tiger\"  Rising up, back on the street Did my time, took my chances Went the distance, now I'm back on my feet Just a man and his will to survive  So many times it happens too fast You trade your passion for glory Don't lose your grip on the dreams of the past You must fight just to keep them alive  It's the eye of the tiger It's the thrill of the fight Rising up to the challenge of our rival And the last known survivor Stalks his prey in the night And he's watching us all with the eye of the tiger  Face to face, out in the heat Hanging tough, staying hungry They stack the odds still we take to the street For the kill with the skill to survive  It's the eye of the tiger It's the thrill of the fight Rising up to the challenge of our rival And the last known survivor Stalks his prey in the night And he's watching us all with the eye of the tiger  Rising up, straight to the top Had the guts, got the glory Went the distance, now I'm not gonna stop Just a man and his will to survive  It's the eye of the tiger It's the thrill of the fight Rising up to the challenge of our rival And the last known survivor Stalks his prey in the night And he's watching us all with the eye of the tiger  The eye of the tiger The eye of the tiger The eye of the tiger The eye of the tiger\n"
     ]
    },
    {
     "name": "stdout",
     "output_type": "stream",
     "text": [
      "['http://www.azlyrics.com/lyrics/korn/deadbodieseverywhere.html']\n"
     ]
    },
    {
     "name": "stdin",
     "output_type": "stream",
     "text": [
      " \"Dead Bodies Everywhere\"  Come on, step inside, and you will realize. Tell me what you need, tell me what to be. What's your vision? You'll see, what do you expect of me? I cant live that lie.  [Chorus:] Hey! I've sick mom, With a fucked dad. Dealing with your life. Dead bodies everywhere. You! Really want me to be a good son. Why? You make me feel like no one.  Let me strip the plain, let me not give in. Free me of your life, inside my heart dies. Your dreams never achieved, don't lay that shit on me. Let me live my... life.  [Chorus]  You want me to be, something I can never ever be! [x2]  [Chorus]  Dead bodies everywhere! [x8]\n"
     ]
    },
    {
     "name": "stdout",
     "output_type": "stream",
     "text": [
      "['http://www.azlyrics.com/lyrics/brunomars/wheniwasyourman.html']\n"
     ]
    },
    {
     "name": "stdin",
     "output_type": "stream",
     "text": [
      " \"When I Was Your Man\"  Same bed but it feels just a little bit bigger now Our song on the radio but it don't sound the same When our friends talk about you, all it does is just tear me down 'Cause my heart breaks a little when I hear your name  It all just sounds like oooooh… Mmm, too young, too dumb to realize That I should've bought you flowers And held your hand Should've gave you all my hours When I had the chance Take you to every party 'Cause all you wanted to do was dance Now my baby's dancing But she's dancing with another man  My pride, my ego, my needs, and my selfish ways Caused a good strong woman like you to walk out my life Now I'll never, never get to clean up the mess I made, ohh… And it haunts me every time I close my eyes  It all just sounds like oooooh… Mmm, too young, too dumb to realize That I should've bought you flowers And held your hand Should've gave you all my hours When I had the chance Take you to every party 'Cause all you wanted to do was dance Now my baby's dancing But she's dancing with another man  Although it hurts I'll be the first to say that I was wrong Oh, I know I'm probably much too late To try and apologize for my mistakes But I just want you to know  I hope he buys you flowers I hope he holds your hand Give you all his hours When he has the chance Take you to every party 'Cause I remember how much you loved to dance Do all the things I should have done When I was your man Do all the things I should have done When I was your man\n"
     ]
    },
    {
     "name": "stdout",
     "output_type": "stream",
     "text": [
      "['http://www.metrolyrics.com/dancing-in-the-streets-lyrics-martha-and-the-vandellas.html']\n"
     ]
    },
    {
     "name": "stdin",
     "output_type": "stream",
     "text": [
      " Calling out around the world Are you ready for a brand new beat Summer's here and the time is right For dancing in the street They're dancing in Chicago Down in New Orleans Up in New York City All we need is music, sweet music There'll be music everywhere There'll be swinging swaying records playing Dancing in the street Oh it doesn't matter what you wear Just as long as you are there So come on every guy grab a girl Everywhere around the world They'll be dancing They're dancing in the streetIt's just an invitation across the nation A chance for folks to meet There'll be laughing, singing, music swinging Dancing in the streetPhiladelphia, PA Baltimore and D.C. now Can't forget the Motor City All we need is music, sweet music There'll be music everywhere There'll be swinging, swaying, records playing Dancing in the street Oh it doesn't matter what you wear Just as long as you are there So come on ev'ry guy grab a girl Ev'rywhere around the worldDancing They're dancing in the street Way down in L.A. Every day (Dancing in the street) Across the ocean blue, me and you We're dancing in the street (Dancing in the street)\n"
     ]
    },
    {
     "name": "stdout",
     "output_type": "stream",
     "text": [
      "['http://www.azlyrics.com/lyrics/billieholiday/butbeautiful.html']\n"
     ]
    },
    {
     "name": "stdin",
     "output_type": "stream",
     "text": [
      " \"But Beautiful\"  Love is funny or it's sad Or it's quit or it's mad It's a good thing or it's bad  But beautiful Beautiful to take a chance and if you fall, you fall And I'm thinking I wouldn't mind at all Love is tearful or it's gay It's a problem or it's a play It's heartache either way  But beautiful And I'm thinking if you were mine I'd never let you go And that would be But beautiful I know Love is beautifull I know\n"
     ]
    }
   ],
   "source": [
    "dic = {}\n",
    "for ID in df3['Code']:\n",
    "    print(df3[df3['Code']==ID]['Source of the Lyric '].values)\n",
    "    tmp = input()\n",
    "    dic[ID] = "
   ]
  },
  {
   "cell_type": "code",
   "execution_count": 61,
   "metadata": {},
   "outputs": [],
   "source": [
    "import torch\n",
    "torch.save(dic,'../dic_Bi_lyrics.pt')"
   ]
  },
  {
   "cell_type": "code",
   "execution_count": 74,
   "metadata": {},
   "outputs": [],
   "source": [
    "df4 = df3[['Song Code','Code','Quadrant']]"
   ]
  },
  {
   "cell_type": "code",
   "execution_count": 84,
   "metadata": {},
   "outputs": [
    {
     "data": {
      "application/vnd.jupyter.widget-view+json": {
       "model_id": "efeed4f65e5740738e160e4370fe4886",
       "version_major": 2,
       "version_minor": 0
      },
      "text/plain": [
       "  0%|          | 0/133 [00:00<?, ?it/s]"
      ]
     },
     "metadata": {},
     "output_type": "display_data"
    },
    {
     "name": "stdout",
     "output_type": "stream",
     "text": [
      "Error in ID: A170\n",
      "Error in ID: A195\n"
     ]
    }
   ],
   "source": [
    "dic_Bi = {}\n",
    "for ID in tqdm(df4['Song Code'],total=len(df4)):\n",
    "    ID = str(ID)\n",
    "    try:\n",
    "        wave_path = 'chorus/{}.mp3'.format(ID)\n",
    "        x = torchaudio.load(wave_path)\n",
    "        dic_Bi[ID] = x\n",
    "    except:\n",
    "        print('Error in ID:',ID)\n",
    "torch.save(dic_Bi,'dic_Bi.pt')"
   ]
  },
  {
   "cell_type": "code",
   "execution_count": 83,
   "metadata": {},
   "outputs": [],
   "source": [
    "df4.to_csv('Bi_meta.csv')"
   ]
  },
  {
   "cell_type": "code",
   "execution_count": null,
   "metadata": {},
   "outputs": [],
   "source": []
  }
 ],
 "metadata": {
  "kernelspec": {
   "display_name": "Python 3",
   "language": "python",
   "name": "python3"
  },
  "language_info": {
   "codemirror_mode": {
    "name": "ipython",
    "version": 3
   },
   "file_extension": ".py",
   "mimetype": "text/x-python",
   "name": "python",
   "nbconvert_exporter": "python",
   "pygments_lexer": "ipython3",
   "version": "3.7.8"
  }
 },
 "nbformat": 4,
 "nbformat_minor": 4
}
